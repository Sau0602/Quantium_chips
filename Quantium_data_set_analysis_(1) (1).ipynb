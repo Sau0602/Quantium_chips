{
 "cells": [
  {
   "cell_type": "code",
   "execution_count": 1,
   "id": "94752dba",
   "metadata": {
    "id": "94752dba"
   },
   "outputs": [],
   "source": [
    "import pandas as pd\n",
    "import numpy as np\n",
    "import seaborn as sns\n",
    "import matplotlib.pyplot as plt\n",
    "%matplotlib inline\n",
    "import warnings\n",
    "warnings.filterwarnings('ignore')\n",
    "#from datetime import datetime"
   ]
  },
  {
   "cell_type": "code",
   "execution_count": 2,
   "id": "9f3cbbfe",
   "metadata": {
    "id": "9f3cbbfe",
    "outputId": "86901346-02db-4faf-98a3-53317a7039ac"
   },
   "outputs": [
    {
     "data": {
      "text/html": [
       "<div>\n",
       "<style scoped>\n",
       "    .dataframe tbody tr th:only-of-type {\n",
       "        vertical-align: middle;\n",
       "    }\n",
       "\n",
       "    .dataframe tbody tr th {\n",
       "        vertical-align: top;\n",
       "    }\n",
       "\n",
       "    .dataframe thead th {\n",
       "        text-align: right;\n",
       "    }\n",
       "</style>\n",
       "<table border=\"1\" class=\"dataframe\">\n",
       "  <thead>\n",
       "    <tr style=\"text-align: right;\">\n",
       "      <th></th>\n",
       "      <th>LYLTY_CARD_NBR</th>\n",
       "      <th>LIFESTAGE</th>\n",
       "      <th>PREMIUM_CUSTOMER</th>\n",
       "    </tr>\n",
       "  </thead>\n",
       "  <tbody>\n",
       "    <tr>\n",
       "      <th>0</th>\n",
       "      <td>1000</td>\n",
       "      <td>YOUNG SINGLES/COUPLES</td>\n",
       "      <td>Premium</td>\n",
       "    </tr>\n",
       "    <tr>\n",
       "      <th>1</th>\n",
       "      <td>1002</td>\n",
       "      <td>YOUNG SINGLES/COUPLES</td>\n",
       "      <td>Mainstream</td>\n",
       "    </tr>\n",
       "    <tr>\n",
       "      <th>2</th>\n",
       "      <td>1003</td>\n",
       "      <td>YOUNG FAMILIES</td>\n",
       "      <td>Budget</td>\n",
       "    </tr>\n",
       "    <tr>\n",
       "      <th>3</th>\n",
       "      <td>1004</td>\n",
       "      <td>OLDER SINGLES/COUPLES</td>\n",
       "      <td>Mainstream</td>\n",
       "    </tr>\n",
       "    <tr>\n",
       "      <th>4</th>\n",
       "      <td>1005</td>\n",
       "      <td>MIDAGE SINGLES/COUPLES</td>\n",
       "      <td>Mainstream</td>\n",
       "    </tr>\n",
       "    <tr>\n",
       "      <th>...</th>\n",
       "      <td>...</td>\n",
       "      <td>...</td>\n",
       "      <td>...</td>\n",
       "    </tr>\n",
       "    <tr>\n",
       "      <th>72632</th>\n",
       "      <td>2370651</td>\n",
       "      <td>MIDAGE SINGLES/COUPLES</td>\n",
       "      <td>Mainstream</td>\n",
       "    </tr>\n",
       "    <tr>\n",
       "      <th>72633</th>\n",
       "      <td>2370701</td>\n",
       "      <td>YOUNG FAMILIES</td>\n",
       "      <td>Mainstream</td>\n",
       "    </tr>\n",
       "    <tr>\n",
       "      <th>72634</th>\n",
       "      <td>2370751</td>\n",
       "      <td>YOUNG FAMILIES</td>\n",
       "      <td>Premium</td>\n",
       "    </tr>\n",
       "    <tr>\n",
       "      <th>72635</th>\n",
       "      <td>2370961</td>\n",
       "      <td>OLDER FAMILIES</td>\n",
       "      <td>Budget</td>\n",
       "    </tr>\n",
       "    <tr>\n",
       "      <th>72636</th>\n",
       "      <td>2373711</td>\n",
       "      <td>YOUNG SINGLES/COUPLES</td>\n",
       "      <td>Mainstream</td>\n",
       "    </tr>\n",
       "  </tbody>\n",
       "</table>\n",
       "<p>72637 rows × 3 columns</p>\n",
       "</div>"
      ],
      "text/plain": [
       "       LYLTY_CARD_NBR               LIFESTAGE PREMIUM_CUSTOMER\n",
       "0                1000   YOUNG SINGLES/COUPLES          Premium\n",
       "1                1002   YOUNG SINGLES/COUPLES       Mainstream\n",
       "2                1003          YOUNG FAMILIES           Budget\n",
       "3                1004   OLDER SINGLES/COUPLES       Mainstream\n",
       "4                1005  MIDAGE SINGLES/COUPLES       Mainstream\n",
       "...               ...                     ...              ...\n",
       "72632         2370651  MIDAGE SINGLES/COUPLES       Mainstream\n",
       "72633         2370701          YOUNG FAMILIES       Mainstream\n",
       "72634         2370751          YOUNG FAMILIES          Premium\n",
       "72635         2370961          OLDER FAMILIES           Budget\n",
       "72636         2373711   YOUNG SINGLES/COUPLES       Mainstream\n",
       "\n",
       "[72637 rows x 3 columns]"
      ]
     },
     "execution_count": 2,
     "metadata": {},
     "output_type": "execute_result"
    }
   ],
   "source": [
    "dfp=pd.read_csv(r\"C:\\Users\\Dell\\Desktop\\saurabhpractice\\Quantium project\\QVI_purchase_behaviour.csv\")\n",
    "dfp"
   ]
  },
  {
   "cell_type": "code",
   "execution_count": 3,
   "id": "30db3b52",
   "metadata": {
    "id": "30db3b52",
    "outputId": "f34f437e-3d70-4370-a504-4362b46943c7"
   },
   "outputs": [
    {
     "data": {
      "text/plain": [
       "(72637, 3)"
      ]
     },
     "execution_count": 3,
     "metadata": {},
     "output_type": "execute_result"
    }
   ],
   "source": [
    "# shape of the data set\n",
    "dfp.shape"
   ]
  },
  {
   "cell_type": "code",
   "execution_count": 4,
   "id": "814cf5d6",
   "metadata": {
    "id": "814cf5d6",
    "outputId": "855f6dc9-d693-4afb-d73f-02edeb4c80d9"
   },
   "outputs": [
    {
     "name": "stdout",
     "output_type": "stream",
     "text": [
      "<class 'pandas.core.frame.DataFrame'>\n",
      "RangeIndex: 72637 entries, 0 to 72636\n",
      "Data columns (total 3 columns):\n",
      " #   Column            Non-Null Count  Dtype \n",
      "---  ------            --------------  ----- \n",
      " 0   LYLTY_CARD_NBR    72637 non-null  int64 \n",
      " 1   LIFESTAGE         72637 non-null  object\n",
      " 2   PREMIUM_CUSTOMER  72637 non-null  object\n",
      "dtypes: int64(1), object(2)\n",
      "memory usage: 1.7+ MB\n"
     ]
    }
   ],
   "source": [
    "dfp.info()"
   ]
  },
  {
   "cell_type": "code",
   "execution_count": 5,
   "id": "e24f04bb",
   "metadata": {
    "id": "e24f04bb",
    "outputId": "faaa7ce6-3573-4e58-ea0e-917da0b70647"
   },
   "outputs": [
    {
     "data": {
      "text/plain": [
       "LYLTY_CARD_NBR      0\n",
       "LIFESTAGE           0\n",
       "PREMIUM_CUSTOMER    0\n",
       "dtype: int64"
      ]
     },
     "execution_count": 5,
     "metadata": {},
     "output_type": "execute_result"
    }
   ],
   "source": [
    "#checking null values\n",
    "dfp.isnull().sum()"
   ]
  },
  {
   "cell_type": "code",
   "execution_count": 6,
   "id": "c00fe3ee",
   "metadata": {
    "id": "c00fe3ee",
    "outputId": "40c0fc62-7c83-4fb4-aeea-6a013365cf3c"
   },
   "outputs": [
    {
     "data": {
      "text/plain": [
       "Index(['LYLTY_CARD_NBR', 'LIFESTAGE', 'PREMIUM_CUSTOMER'], dtype='object')"
      ]
     },
     "execution_count": 6,
     "metadata": {},
     "output_type": "execute_result"
    }
   ],
   "source": [
    "# checking columns of Purchase Behaviour\n",
    "dfp.columns"
   ]
  },
  {
   "cell_type": "code",
   "execution_count": 7,
   "id": "a9b34653",
   "metadata": {
    "id": "a9b34653",
    "outputId": "30f2deba-6f01-493a-efb0-6a9b5aa635f1"
   },
   "outputs": [
    {
     "data": {
      "text/plain": [
       "array(['Premium', 'Mainstream', 'Budget'], dtype=object)"
      ]
     },
     "execution_count": 7,
     "metadata": {},
     "output_type": "execute_result"
    }
   ],
   "source": [
    "# checking unique values in Premium customer\n",
    "dfp['PREMIUM_CUSTOMER'].unique()"
   ]
  },
  {
   "cell_type": "code",
   "execution_count": 8,
   "id": "3ee8d0b9",
   "metadata": {
    "id": "3ee8d0b9",
    "outputId": "6d495375-c18a-4bb1-8211-5b6978f11d10"
   },
   "outputs": [
    {
     "data": {
      "text/plain": [
       "Mainstream    29245\n",
       "Budget        24470\n",
       "Premium       18922\n",
       "Name: PREMIUM_CUSTOMER, dtype: int64"
      ]
     },
     "execution_count": 8,
     "metadata": {},
     "output_type": "execute_result"
    }
   ],
   "source": [
    "# count of the premium customer\n",
    "dfp['PREMIUM_CUSTOMER'].value_counts()"
   ]
  },
  {
   "cell_type": "code",
   "execution_count": 9,
   "id": "16e1d5d1",
   "metadata": {
    "id": "16e1d5d1",
    "outputId": "4b380121-1599-4423-87d7-9043f2b88e86",
    "scrolled": false
   },
   "outputs": [
    {
     "data": {
      "text/plain": [
       "Text(0.5, 1.0, 'CUSTOMER TYPE')"
      ]
     },
     "execution_count": 9,
     "metadata": {},
     "output_type": "execute_result"
    },
    {
     "data": {
      "image/png": "[encoded data removed]",
      "text/plain": [
       "<Figure size 576x576 with 1 Axes>"
      ]
     },
     "metadata": {
      "needs_background": "light"
     },
     "output_type": "display_data"
    }
   ],
   "source": [
    "# plotting the count values of premium customer in barh graph\n",
    "plt.figure(figsize=[8,8])\n",
    "colors=['green','brown','blue']\n",
    "dfp['PREMIUM_CUSTOMER'].value_counts().plot.barh(color=colors)\n",
    "plt.title('CUSTOMER TYPE')\n"
   ]
  },
  {
   "cell_type": "markdown",
   "id": "GAW4Sgt0UaMt",
   "metadata": {
    "id": "GAW4Sgt0UaMt"
   },
   "source": [
    "# Customer column has 3 types of cutomers and there counts are as follows\n",
    "1. Premium-29245.\n",
    "2. Budget-24470.\n",
    "3. Mainstream-18922"
   ]
  },
  {
   "cell_type": "code",
   "execution_count": 10,
   "id": "0a3f9fb8",
   "metadata": {
    "id": "0a3f9fb8",
    "outputId": "4f7a9090-29d3-479a-8262-933fbfa06382"
   },
   "outputs": [
    {
     "data": {
      "text/plain": [
       "Text(0.5, 1.0, 'Customer Type in Percentage')"
      ]
     },
     "execution_count": 10,
     "metadata": {},
     "output_type": "execute_result"
    },
    {
     "data": {
      "image/png": "[encoded data removed]",
      "text/plain": [
       "<Figure size 576x576 with 1 Axes>"
      ]
     },
     "metadata": {},
     "output_type": "display_data"
    }
   ],
   "source": [
    "# pie plot of customer column visualization\n",
    "plt.figure(figsize=[8,8])\n",
    "explodes=[0,0.1,0]\n",
    "dfp['PREMIUM_CUSTOMER'].value_counts().plot(kind='pie',autopct='%.0f%%',explode=explodes)\n",
    "plt.title('Customer Type in Percentage')"
   ]
  },
  {
   "cell_type": "code",
   "execution_count": 11,
   "id": "5bc7e879",
   "metadata": {
    "id": "5bc7e879",
    "outputId": "22d8243a-0614-49e9-bbca-609ab71dae8e"
   },
   "outputs": [
    {
     "data": {
      "text/plain": [
       "array(['YOUNG SINGLES/COUPLES', 'YOUNG FAMILIES', 'OLDER SINGLES/COUPLES',\n",
       "       'MIDAGE SINGLES/COUPLES', 'NEW FAMILIES', 'OLDER FAMILIES',\n",
       "       'RETIREES'], dtype=object)"
      ]
     },
     "execution_count": 11,
     "metadata": {},
     "output_type": "execute_result"
    }
   ],
   "source": [
    "# checking unique valuues of lifestage\n",
    "dfp['LIFESTAGE'].unique()"
   ]
  },
  {
   "cell_type": "code",
   "execution_count": 12,
   "id": "fb4e8566",
   "metadata": {
    "id": "fb4e8566",
    "outputId": "723d281e-576d-4309-8e51-7fa30884f3bf"
   },
   "outputs": [
    {
     "data": {
      "text/plain": [
       "RETIREES                  14805\n",
       "OLDER SINGLES/COUPLES     14609\n",
       "YOUNG SINGLES/COUPLES     14441\n",
       "OLDER FAMILIES             9780\n",
       "YOUNG FAMILIES             9178\n",
       "MIDAGE SINGLES/COUPLES     7275\n",
       "NEW FAMILIES               2549\n",
       "Name: LIFESTAGE, dtype: int64"
      ]
     },
     "execution_count": 12,
     "metadata": {},
     "output_type": "execute_result"
    }
   ],
   "source": [
    "# count of lifestage columns according Lifestages\n",
    "dfp['LIFESTAGE'].value_counts()"
   ]
  },
  {
   "cell_type": "code",
   "execution_count": 13,
   "id": "b75e14de",
   "metadata": {
    "id": "b75e14de",
    "outputId": "dce148d6-568a-4acb-9408-4599af3ac851"
   },
   "outputs": [
    {
     "data": {
      "text/plain": [
       "Text(0.5, 1.0, 'LIFESTAGE COUNT')"
      ]
     },
     "execution_count": 13,
     "metadata": {},
     "output_type": "execute_result"
    },
    {
     "data": {
      "image/png": "[encoded data removed]",
      "text/plain": [
       "<Figure size 720x432 with 1 Axes>"
      ]
     },
     "metadata": {
      "needs_background": "light"
     },
     "output_type": "display_data"
    }
   ],
   "source": [
    "# plotting the count of lifestage in barh graph\n",
    "plt.figure(figsize=[10,6])\n",
    "colors=['yellow','blue','green','brown','violet','red','pink']\n",
    "dfp['LIFESTAGE'].value_counts().plot(kind='bar',color=colors)\n",
    "plt.title('LIFESTAGE COUNT')"
   ]
  },
  {
   "cell_type": "markdown",
   "id": "LR8z1I2MVMEs",
   "metadata": {
    "id": "LR8z1I2MVMEs"
   },
   "source": [
    "# Top 3 most custometrs based on the lifestage are:\n",
    "1. Retirees\n",
    "2. Older single/Couples\n",
    "3. Young single/Couples"
   ]
  },
  {
   "cell_type": "code",
   "execution_count": 14,
   "id": "c2973e54",
   "metadata": {
    "id": "c2973e54",
    "outputId": "0c01b4d1-0b16-44d3-c6e3-ed94ba649956"
   },
   "outputs": [
    {
     "data": {
      "text/plain": [
       "Text(0.5, 1.0, 'lifestage in Percentage')"
      ]
     },
     "execution_count": 14,
     "metadata": {},
     "output_type": "execute_result"
    },
    {
     "data": {
      "image/png": "[encoded data removed]",
      "text/plain": [
       "<Figure size 720x720 with 1 Axes>"
      ]
     },
     "metadata": {},
     "output_type": "display_data"
    }
   ],
   "source": [
    "# Visualizing the Lifestage in Pie Plot\n",
    "plt.figure(figsize=[10,10])\n",
    "explodes=[0,0.1,0,0,0,0,0]\n",
    "dfp['LIFESTAGE'].value_counts().plot(kind='pie',autopct='%.0f%%',explode=explodes)\n",
    "plt.title('lifestage in Percentage')"
   ]
  },
  {
   "cell_type": "code",
   "execution_count": 15,
   "id": "b4fe2b8f",
   "metadata": {
    "id": "b4fe2b8f",
    "outputId": "bf2eb1f0-55d0-4ace-88b1-37a6cfd48993"
   },
   "outputs": [
    {
     "data": {
      "image/png": "[encoded data removed]",
      "text/plain": [
       "<Figure size 432x288 with 1 Axes>"
      ]
     },
     "metadata": {},
     "output_type": "display_data"
    }
   ],
   "source": [
    "# Visualizing Lifestage in Donut Plot\n",
    "data = dfp['LIFESTAGE'].value_counts()\n",
    "explode = (0,0.5,0,0.5,0,0.5,0)\n",
    "color=['yellow','blue','green','brown','violet','red','pink']\n",
    "plt.pie(data, explode = explode,autopct='%1.1f%%',shadow=True,radius = 2.5, \n",
    "        labels = ['YOUNG SINGLES/COUPLES', 'YOUNG FAMILIES', 'OLDER SINGLES/COUPLES',\n",
    "       'MIDAGE SINGLES/COUPLES', 'NEW FAMILIES', 'OLDER FAMILIES',\n",
    "       'RETIREES'],colors=color)\n",
    "circle = plt.Circle( (0,0), 1, color='white')\n",
    "p=plt.gcf()\n",
    "p.gca().add_artist(circle)\n",
    "plt.title('Donut Plot for LIFESTAGE')\n",
    "plt.show()"
   ]
  },
  {
   "cell_type": "code",
   "execution_count": 16,
   "id": "fbce3dbc",
   "metadata": {
    "id": "fbce3dbc",
    "outputId": "41fb6e92-2174-46d4-e526-d5cd7319e922",
    "scrolled": false
   },
   "outputs": [
    {
     "data": {
      "text/plain": [
       "PREMIUM_CUSTOMER  LIFESTAGE               LYLTY_CARD_NBR\n",
       "Budget            MIDAGE SINGLES/COUPLES  1052              1\n",
       "                                          1081              1\n",
       "                                          138208            1\n",
       "                                          141345            1\n",
       "                                          141177            1\n",
       "                                                           ..\n",
       "Premium           YOUNG SINGLES/COUPLES   12033             1\n",
       "                                          12134             1\n",
       "                                          12224             1\n",
       "                                          12288             1\n",
       "                                          272380            1\n",
       "Length: 72637, dtype: int64"
      ]
     },
     "execution_count": 16,
     "metadata": {},
     "output_type": "execute_result"
    }
   ],
   "source": [
    "grouped=dfp.groupby(['PREMIUM_CUSTOMER','LIFESTAGE']).value_counts()\n",
    "grouped"
   ]
  },
  {
   "cell_type": "code",
   "execution_count": 17,
   "id": "bcb27dcf",
   "metadata": {
    "id": "bcb27dcf",
    "outputId": "b704f351-1ef6-4ae8-a4c6-954f7d978af5"
   },
   "outputs": [
    {
     "name": "stdout",
     "output_type": "stream",
     "text": [
      "Duplicate Rows : Empty DataFrame\n",
      "Columns: [LYLTY_CARD_NBR, LIFESTAGE, PREMIUM_CUSTOMER]\n",
      "Index: []\n"
     ]
    }
   ],
   "source": [
    "# checking duplicate values\n",
    "duplicate=dfp[dfp.duplicated()]\n",
    "print(\"Duplicate Rows :\",duplicate)"
   ]
  },
  {
   "cell_type": "markdown",
   "id": "JpQ2bWTsWVhe",
   "metadata": {
    "id": "JpQ2bWTsWVhe"
   },
   "source": [
    "# In Purchase Data Set there is no any duplicates are present"
   ]
  },
  {
   "cell_type": "code",
   "execution_count": 18,
   "id": "05cd04ad",
   "metadata": {
    "id": "05cd04ad",
    "outputId": "3f566eeb-42f6-4655-bc15-b9eb9ffce73d"
   },
   "outputs": [
    {
     "data": {
      "text/html": [
       "<div>\n",
       "<style scoped>\n",
       "    .dataframe tbody tr th:only-of-type {\n",
       "        vertical-align: middle;\n",
       "    }\n",
       "\n",
       "    .dataframe tbody tr th {\n",
       "        vertical-align: top;\n",
       "    }\n",
       "\n",
       "    .dataframe thead th {\n",
       "        text-align: right;\n",
       "    }\n",
       "</style>\n",
       "<table border=\"1\" class=\"dataframe\">\n",
       "  <thead>\n",
       "    <tr style=\"text-align: right;\">\n",
       "      <th></th>\n",
       "      <th>count</th>\n",
       "      <th>mean</th>\n",
       "      <th>std</th>\n",
       "      <th>min</th>\n",
       "      <th>25%</th>\n",
       "      <th>50%</th>\n",
       "      <th>75%</th>\n",
       "      <th>max</th>\n",
       "    </tr>\n",
       "  </thead>\n",
       "  <tbody>\n",
       "    <tr>\n",
       "      <th>LYLTY_CARD_NBR</th>\n",
       "      <td>72637.0</td>\n",
       "      <td>136185.93177</td>\n",
       "      <td>89892.932014</td>\n",
       "      <td>1000.0</td>\n",
       "      <td>66202.0</td>\n",
       "      <td>134040.0</td>\n",
       "      <td>203375.0</td>\n",
       "      <td>2373711.0</td>\n",
       "    </tr>\n",
       "  </tbody>\n",
       "</table>\n",
       "</div>"
      ],
      "text/plain": [
       "                  count          mean           std     min      25%  \\\n",
       "LYLTY_CARD_NBR  72637.0  136185.93177  89892.932014  1000.0  66202.0   \n",
       "\n",
       "                     50%       75%        max  \n",
       "LYLTY_CARD_NBR  134040.0  203375.0  2373711.0  "
      ]
     },
     "execution_count": 18,
     "metadata": {},
     "output_type": "execute_result"
    }
   ],
   "source": [
    "dfp.describe().T"
   ]
  },
  {
   "cell_type": "code",
   "execution_count": 19,
   "id": "e2901d00",
   "metadata": {
    "id": "e2901d00",
    "outputId": "73961738-6f7e-477f-b071-619e66cef3af"
   },
   "outputs": [
    {
     "data": {
      "text/html": [
       "<div>\n",
       "<style scoped>\n",
       "    .dataframe tbody tr th:only-of-type {\n",
       "        vertical-align: middle;\n",
       "    }\n",
       "\n",
       "    .dataframe tbody tr th {\n",
       "        vertical-align: top;\n",
       "    }\n",
       "\n",
       "    .dataframe thead th {\n",
       "        text-align: right;\n",
       "    }\n",
       "</style>\n",
       "<table border=\"1\" class=\"dataframe\">\n",
       "  <thead>\n",
       "    <tr style=\"text-align: right;\">\n",
       "      <th></th>\n",
       "      <th>DATE</th>\n",
       "      <th>STORE_NBR</th>\n",
       "      <th>LYLTY_CARD_NBR</th>\n",
       "      <th>TXN_ID</th>\n",
       "      <th>PROD_NBR</th>\n",
       "      <th>PROD_NAME</th>\n",
       "      <th>PROD_QTY</th>\n",
       "      <th>TOT_SALES</th>\n",
       "    </tr>\n",
       "  </thead>\n",
       "  <tbody>\n",
       "    <tr>\n",
       "      <th>0</th>\n",
       "      <td>43390</td>\n",
       "      <td>1</td>\n",
       "      <td>1000</td>\n",
       "      <td>1</td>\n",
       "      <td>5</td>\n",
       "      <td>Natural Chip        Compny SeaSalt175g</td>\n",
       "      <td>2</td>\n",
       "      <td>6.0</td>\n",
       "    </tr>\n",
       "    <tr>\n",
       "      <th>1</th>\n",
       "      <td>43599</td>\n",
       "      <td>1</td>\n",
       "      <td>1307</td>\n",
       "      <td>348</td>\n",
       "      <td>66</td>\n",
       "      <td>CCs Nacho Cheese    175g</td>\n",
       "      <td>3</td>\n",
       "      <td>6.3</td>\n",
       "    </tr>\n",
       "    <tr>\n",
       "      <th>2</th>\n",
       "      <td>43605</td>\n",
       "      <td>1</td>\n",
       "      <td>1343</td>\n",
       "      <td>383</td>\n",
       "      <td>61</td>\n",
       "      <td>Smiths Crinkle Cut  Chips Chicken 170g</td>\n",
       "      <td>2</td>\n",
       "      <td>2.9</td>\n",
       "    </tr>\n",
       "    <tr>\n",
       "      <th>3</th>\n",
       "      <td>43329</td>\n",
       "      <td>2</td>\n",
       "      <td>2373</td>\n",
       "      <td>974</td>\n",
       "      <td>69</td>\n",
       "      <td>Smiths Chip Thinly  S/Cream&amp;Onion 175g</td>\n",
       "      <td>5</td>\n",
       "      <td>15.0</td>\n",
       "    </tr>\n",
       "    <tr>\n",
       "      <th>4</th>\n",
       "      <td>43330</td>\n",
       "      <td>2</td>\n",
       "      <td>2426</td>\n",
       "      <td>1038</td>\n",
       "      <td>108</td>\n",
       "      <td>Kettle Tortilla ChpsHny&amp;Jlpno Chili 150g</td>\n",
       "      <td>3</td>\n",
       "      <td>13.8</td>\n",
       "    </tr>\n",
       "    <tr>\n",
       "      <th>...</th>\n",
       "      <td>...</td>\n",
       "      <td>...</td>\n",
       "      <td>...</td>\n",
       "      <td>...</td>\n",
       "      <td>...</td>\n",
       "      <td>...</td>\n",
       "      <td>...</td>\n",
       "      <td>...</td>\n",
       "    </tr>\n",
       "    <tr>\n",
       "      <th>264831</th>\n",
       "      <td>43533</td>\n",
       "      <td>272</td>\n",
       "      <td>272319</td>\n",
       "      <td>270088</td>\n",
       "      <td>89</td>\n",
       "      <td>Kettle Sweet Chilli And Sour Cream 175g</td>\n",
       "      <td>2</td>\n",
       "      <td>10.8</td>\n",
       "    </tr>\n",
       "    <tr>\n",
       "      <th>264832</th>\n",
       "      <td>43325</td>\n",
       "      <td>272</td>\n",
       "      <td>272358</td>\n",
       "      <td>270154</td>\n",
       "      <td>74</td>\n",
       "      <td>Tostitos Splash Of  Lime 175g</td>\n",
       "      <td>1</td>\n",
       "      <td>4.4</td>\n",
       "    </tr>\n",
       "    <tr>\n",
       "      <th>264833</th>\n",
       "      <td>43410</td>\n",
       "      <td>272</td>\n",
       "      <td>272379</td>\n",
       "      <td>270187</td>\n",
       "      <td>51</td>\n",
       "      <td>Doritos Mexicana    170g</td>\n",
       "      <td>2</td>\n",
       "      <td>8.8</td>\n",
       "    </tr>\n",
       "    <tr>\n",
       "      <th>264834</th>\n",
       "      <td>43461</td>\n",
       "      <td>272</td>\n",
       "      <td>272379</td>\n",
       "      <td>270188</td>\n",
       "      <td>42</td>\n",
       "      <td>Doritos Corn Chip Mexican Jalapeno 150g</td>\n",
       "      <td>2</td>\n",
       "      <td>7.8</td>\n",
       "    </tr>\n",
       "    <tr>\n",
       "      <th>264835</th>\n",
       "      <td>43365</td>\n",
       "      <td>272</td>\n",
       "      <td>272380</td>\n",
       "      <td>270189</td>\n",
       "      <td>74</td>\n",
       "      <td>Tostitos Splash Of  Lime 175g</td>\n",
       "      <td>2</td>\n",
       "      <td>8.8</td>\n",
       "    </tr>\n",
       "  </tbody>\n",
       "</table>\n",
       "<p>264836 rows × 8 columns</p>\n",
       "</div>"
      ],
      "text/plain": [
       "         DATE  STORE_NBR  LYLTY_CARD_NBR  TXN_ID  PROD_NBR  \\\n",
       "0       43390          1            1000       1         5   \n",
       "1       43599          1            1307     348        66   \n",
       "2       43605          1            1343     383        61   \n",
       "3       43329          2            2373     974        69   \n",
       "4       43330          2            2426    1038       108   \n",
       "...       ...        ...             ...     ...       ...   \n",
       "264831  43533        272          272319  270088        89   \n",
       "264832  43325        272          272358  270154        74   \n",
       "264833  43410        272          272379  270187        51   \n",
       "264834  43461        272          272379  270188        42   \n",
       "264835  43365        272          272380  270189        74   \n",
       "\n",
       "                                       PROD_NAME  PROD_QTY  TOT_SALES  \n",
       "0         Natural Chip        Compny SeaSalt175g         2        6.0  \n",
       "1                       CCs Nacho Cheese    175g         3        6.3  \n",
       "2         Smiths Crinkle Cut  Chips Chicken 170g         2        2.9  \n",
       "3         Smiths Chip Thinly  S/Cream&Onion 175g         5       15.0  \n",
       "4       Kettle Tortilla ChpsHny&Jlpno Chili 150g         3       13.8  \n",
       "...                                          ...       ...        ...  \n",
       "264831   Kettle Sweet Chilli And Sour Cream 175g         2       10.8  \n",
       "264832             Tostitos Splash Of  Lime 175g         1        4.4  \n",
       "264833                  Doritos Mexicana    170g         2        8.8  \n",
       "264834   Doritos Corn Chip Mexican Jalapeno 150g         2        7.8  \n",
       "264835             Tostitos Splash Of  Lime 175g         2        8.8  \n",
       "\n",
       "[264836 rows x 8 columns]"
      ]
     },
     "execution_count": 19,
     "metadata": {},
     "output_type": "execute_result"
    }
   ],
   "source": [
    "# reading transaction data set of chips\n",
    "dft=pd.read_excel(r\"C:\\Users\\Dell\\Desktop\\saurabhpractice\\Quantium project\\QVI_transaction_data.xlsx\")\n",
    "dft"
   ]
  },
  {
   "cell_type": "code",
   "execution_count": 20,
   "id": "86ff8adf",
   "metadata": {
    "id": "86ff8adf",
    "outputId": "8e4ae459-85ec-416c-d8c6-3069e724734c"
   },
   "outputs": [
    {
     "data": {
      "text/plain": [
       "(264836, 8)"
      ]
     },
     "execution_count": 20,
     "metadata": {},
     "output_type": "execute_result"
    }
   ],
   "source": [
    "# checking shape of data set\n",
    "dft.shape"
   ]
  },
  {
   "cell_type": "code",
   "execution_count": 21,
   "id": "0f7daa5e",
   "metadata": {
    "id": "0f7daa5e",
    "outputId": "8c729090-1466-4b98-90fd-252e60d0b189"
   },
   "outputs": [
    {
     "data": {
      "text/plain": [
       "Index(['DATE', 'STORE_NBR', 'LYLTY_CARD_NBR', 'TXN_ID', 'PROD_NBR',\n",
       "       'PROD_NAME', 'PROD_QTY', 'TOT_SALES'],\n",
       "      dtype='object')"
      ]
     },
     "execution_count": 21,
     "metadata": {},
     "output_type": "execute_result"
    }
   ],
   "source": [
    "# checking number of columns in data set\n",
    "dft.columns"
   ]
  },
  {
   "cell_type": "code",
   "execution_count": 22,
   "id": "ab331309",
   "metadata": {
    "id": "ab331309",
    "outputId": "8299a1b0-72a3-4fbd-9238-ac01acfa0892"
   },
   "outputs": [
    {
     "name": "stdout",
     "output_type": "stream",
     "text": [
      "<class 'pandas.core.frame.DataFrame'>\n",
      "RangeIndex: 264836 entries, 0 to 264835\n",
      "Data columns (total 8 columns):\n",
      " #   Column          Non-Null Count   Dtype  \n",
      "---  ------          --------------   -----  \n",
      " 0   DATE            264836 non-null  int64  \n",
      " 1   STORE_NBR       264836 non-null  int64  \n",
      " 2   LYLTY_CARD_NBR  264836 non-null  int64  \n",
      " 3   TXN_ID          264836 non-null  int64  \n",
      " 4   PROD_NBR        264836 non-null  int64  \n",
      " 5   PROD_NAME       264836 non-null  object \n",
      " 6   PROD_QTY        264836 non-null  int64  \n",
      " 7   TOT_SALES       264836 non-null  float64\n",
      "dtypes: float64(1), int64(6), object(1)\n",
      "memory usage: 16.2+ MB\n"
     ]
    }
   ],
   "source": [
    "# data types of data set\n",
    "dft.info()"
   ]
  },
  {
   "cell_type": "markdown",
   "id": "NZTDuUp4WuJc",
   "metadata": {
    "id": "NZTDuUp4WuJc"
   },
   "source": [
    "# All the columns are in int and float datatype except Product name its in categorical format.\n",
    "# Date column is in the int data type needs to convert into date time format."
   ]
  },
  {
   "cell_type": "code",
   "execution_count": 23,
   "id": "404b465c",
   "metadata": {
    "id": "404b465c",
    "outputId": "7c8dbe2f-6d74-42ef-ad6a-e1e31ff22174"
   },
   "outputs": [
    {
     "data": {
      "text/html": [
       "<div>\n",
       "<style scoped>\n",
       "    .dataframe tbody tr th:only-of-type {\n",
       "        vertical-align: middle;\n",
       "    }\n",
       "\n",
       "    .dataframe tbody tr th {\n",
       "        vertical-align: top;\n",
       "    }\n",
       "\n",
       "    .dataframe thead th {\n",
       "        text-align: right;\n",
       "    }\n",
       "</style>\n",
       "<table border=\"1\" class=\"dataframe\">\n",
       "  <thead>\n",
       "    <tr style=\"text-align: right;\">\n",
       "      <th></th>\n",
       "      <th>count</th>\n",
       "      <th>mean</th>\n",
       "      <th>std</th>\n",
       "      <th>min</th>\n",
       "      <th>25%</th>\n",
       "      <th>50%</th>\n",
       "      <th>75%</th>\n",
       "      <th>max</th>\n",
       "    </tr>\n",
       "  </thead>\n",
       "  <tbody>\n",
       "    <tr>\n",
       "      <th>DATE</th>\n",
       "      <td>264836.0</td>\n",
       "      <td>43464.036260</td>\n",
       "      <td>105.389282</td>\n",
       "      <td>43282.0</td>\n",
       "      <td>43373.0</td>\n",
       "      <td>43464.0</td>\n",
       "      <td>43555.00</td>\n",
       "      <td>43646.0</td>\n",
       "    </tr>\n",
       "    <tr>\n",
       "      <th>STORE_NBR</th>\n",
       "      <td>264836.0</td>\n",
       "      <td>135.080110</td>\n",
       "      <td>76.784180</td>\n",
       "      <td>1.0</td>\n",
       "      <td>70.0</td>\n",
       "      <td>130.0</td>\n",
       "      <td>203.00</td>\n",
       "      <td>272.0</td>\n",
       "    </tr>\n",
       "    <tr>\n",
       "      <th>LYLTY_CARD_NBR</th>\n",
       "      <td>264836.0</td>\n",
       "      <td>135549.476404</td>\n",
       "      <td>80579.978022</td>\n",
       "      <td>1000.0</td>\n",
       "      <td>70021.0</td>\n",
       "      <td>130357.5</td>\n",
       "      <td>203094.25</td>\n",
       "      <td>2373711.0</td>\n",
       "    </tr>\n",
       "    <tr>\n",
       "      <th>TXN_ID</th>\n",
       "      <td>264836.0</td>\n",
       "      <td>135158.310815</td>\n",
       "      <td>78133.026026</td>\n",
       "      <td>1.0</td>\n",
       "      <td>67601.5</td>\n",
       "      <td>135137.5</td>\n",
       "      <td>202701.25</td>\n",
       "      <td>2415841.0</td>\n",
       "    </tr>\n",
       "    <tr>\n",
       "      <th>PROD_NBR</th>\n",
       "      <td>264836.0</td>\n",
       "      <td>56.583157</td>\n",
       "      <td>32.826638</td>\n",
       "      <td>1.0</td>\n",
       "      <td>28.0</td>\n",
       "      <td>56.0</td>\n",
       "      <td>85.00</td>\n",
       "      <td>114.0</td>\n",
       "    </tr>\n",
       "    <tr>\n",
       "      <th>PROD_QTY</th>\n",
       "      <td>264836.0</td>\n",
       "      <td>1.907309</td>\n",
       "      <td>0.643654</td>\n",
       "      <td>1.0</td>\n",
       "      <td>2.0</td>\n",
       "      <td>2.0</td>\n",
       "      <td>2.00</td>\n",
       "      <td>200.0</td>\n",
       "    </tr>\n",
       "    <tr>\n",
       "      <th>TOT_SALES</th>\n",
       "      <td>264836.0</td>\n",
       "      <td>7.304200</td>\n",
       "      <td>3.083226</td>\n",
       "      <td>1.5</td>\n",
       "      <td>5.4</td>\n",
       "      <td>7.4</td>\n",
       "      <td>9.20</td>\n",
       "      <td>650.0</td>\n",
       "    </tr>\n",
       "  </tbody>\n",
       "</table>\n",
       "</div>"
      ],
      "text/plain": [
       "                   count           mean           std      min      25%  \\\n",
       "DATE            264836.0   43464.036260    105.389282  43282.0  43373.0   \n",
       "STORE_NBR       264836.0     135.080110     76.784180      1.0     70.0   \n",
       "LYLTY_CARD_NBR  264836.0  135549.476404  80579.978022   1000.0  70021.0   \n",
       "TXN_ID          264836.0  135158.310815  78133.026026      1.0  67601.5   \n",
       "PROD_NBR        264836.0      56.583157     32.826638      1.0     28.0   \n",
       "PROD_QTY        264836.0       1.907309      0.643654      1.0      2.0   \n",
       "TOT_SALES       264836.0       7.304200      3.083226      1.5      5.4   \n",
       "\n",
       "                     50%        75%        max  \n",
       "DATE             43464.0   43555.00    43646.0  \n",
       "STORE_NBR          130.0     203.00      272.0  \n",
       "LYLTY_CARD_NBR  130357.5  203094.25  2373711.0  \n",
       "TXN_ID          135137.5  202701.25  2415841.0  \n",
       "PROD_NBR            56.0      85.00      114.0  \n",
       "PROD_QTY             2.0       2.00      200.0  \n",
       "TOT_SALES            7.4       9.20      650.0  "
      ]
     },
     "execution_count": 23,
     "metadata": {},
     "output_type": "execute_result"
    }
   ],
   "source": [
    "dft.describe().T"
   ]
  },
  {
   "cell_type": "code",
   "execution_count": 24,
   "id": "661ac111",
   "metadata": {
    "id": "661ac111",
    "outputId": "31f0bf3d-5e74-4f4c-a094-f45420b20272"
   },
   "outputs": [
    {
     "data": {
      "text/plain": [
       "DATE              0\n",
       "STORE_NBR         0\n",
       "LYLTY_CARD_NBR    0\n",
       "TXN_ID            0\n",
       "PROD_NBR          0\n",
       "PROD_NAME         0\n",
       "PROD_QTY          0\n",
       "TOT_SALES         0\n",
       "dtype: int64"
      ]
     },
     "execution_count": 24,
     "metadata": {},
     "output_type": "execute_result"
    }
   ],
   "source": [
    "#checking missing values\n",
    "dft.isnull().sum()"
   ]
  },
  {
   "cell_type": "markdown",
   "id": "mJMgsgQnXNeS",
   "metadata": {
    "id": "mJMgsgQnXNeS"
   },
   "source": [
    "# No null values are present in the Transaction data set"
   ]
  },
  {
   "cell_type": "code",
   "execution_count": 25,
   "id": "0a6582ec",
   "metadata": {
    "id": "0a6582ec",
    "outputId": "ed01bef6-2e49-4256-bc16-090b11fb8866"
   },
   "outputs": [],
   "source": [
    "#checking duplicate values\n",
    "duplicate_=dft[dft.duplicated()]\n",
    "#duplicate_"
   ]
  },
  {
   "cell_type": "markdown",
   "id": "E7VUVexvXYc7",
   "metadata": {
    "id": "E7VUVexvXYc7"
   },
   "source": [
    "# One Duplicate Row is present in the Tansaction data set ie row 124845 "
   ]
  },
  {
   "cell_type": "code",
   "execution_count": 26,
   "id": "9b8bfd46",
   "metadata": {
    "id": "9b8bfd46"
   },
   "outputs": [],
   "source": [
    "removing_duplicate=dft.drop_duplicates(keep=False,inplace=True)\n",
    "removing_duplicate"
   ]
  },
  {
   "cell_type": "markdown",
   "id": "MEY7Yn5RXsG4",
   "metadata": {
    "id": "MEY7Yn5RXsG4"
   },
   "source": []
  },
  {
   "cell_type": "code",
   "execution_count": null,
   "id": "e06f760b",
   "metadata": {
    "id": "e06f760b"
   },
   "outputs": [],
   "source": []
  },
  {
   "cell_type": "markdown",
   "id": "e0eeaeee",
   "metadata": {
    "id": "e0eeaeee"
   },
   "source": [
    "### OBSERVATION"
   ]
  },
  {
   "cell_type": "code",
   "execution_count": 27,
   "id": "f538b389",
   "metadata": {
    "id": "f538b389"
   },
   "outputs": [],
   "source": [
    "# Date Column is in the integer formate (Need correction)\n",
    "# No null(missing) Values are found.\n",
    "# Found One Duplicate Row (124845)."
   ]
  },
  {
   "cell_type": "code",
   "execution_count": 28,
   "id": "670d284b",
   "metadata": {
    "id": "670d284b",
    "outputId": "fd4e7a2b-8dcb-4289-dc2e-7135f68c615f"
   },
   "outputs": [
    {
     "data": {
      "text/html": [
       "<div>\n",
       "<style scoped>\n",
       "    .dataframe tbody tr th:only-of-type {\n",
       "        vertical-align: middle;\n",
       "    }\n",
       "\n",
       "    .dataframe tbody tr th {\n",
       "        vertical-align: top;\n",
       "    }\n",
       "\n",
       "    .dataframe thead th {\n",
       "        text-align: right;\n",
       "    }\n",
       "</style>\n",
       "<table border=\"1\" class=\"dataframe\">\n",
       "  <thead>\n",
       "    <tr style=\"text-align: right;\">\n",
       "      <th></th>\n",
       "      <th>DATE</th>\n",
       "      <th>STORE_NBR</th>\n",
       "      <th>LYLTY_CARD_NBR</th>\n",
       "      <th>TXN_ID</th>\n",
       "      <th>PROD_NBR</th>\n",
       "      <th>PROD_NAME</th>\n",
       "      <th>PROD_QTY</th>\n",
       "      <th>TOT_SALES</th>\n",
       "    </tr>\n",
       "  </thead>\n",
       "  <tbody>\n",
       "    <tr>\n",
       "      <th>0</th>\n",
       "      <td>43390</td>\n",
       "      <td>1</td>\n",
       "      <td>1000</td>\n",
       "      <td>1</td>\n",
       "      <td>5</td>\n",
       "      <td>Natural Chip        Compny SeaSalt175g</td>\n",
       "      <td>2</td>\n",
       "      <td>6.0</td>\n",
       "    </tr>\n",
       "  </tbody>\n",
       "</table>\n",
       "</div>"
      ],
      "text/plain": [
       "    DATE  STORE_NBR  LYLTY_CARD_NBR  TXN_ID  PROD_NBR  \\\n",
       "0  43390          1            1000       1         5   \n",
       "\n",
       "                                PROD_NAME  PROD_QTY  TOT_SALES  \n",
       "0  Natural Chip        Compny SeaSalt175g         2        6.0  "
      ]
     },
     "execution_count": 28,
     "metadata": {},
     "output_type": "execute_result"
    }
   ],
   "source": [
    "dft.head(1)"
   ]
  },
  {
   "cell_type": "code",
   "execution_count": 29,
   "id": "019c4ffc",
   "metadata": {
    "id": "019c4ffc",
    "outputId": "03dd0ffc-9a2d-4143-a25d-59371a430fa2"
   },
   "outputs": [
    {
     "data": {
      "text/plain": [
       "Text(0.5, 1.0, 'OUTLIERS')"
      ]
     },
     "execution_count": 29,
     "metadata": {},
     "output_type": "execute_result"
    },
    {
     "data": {
      "image/png": "[encoded data removed]",
      "text/plain": [
       "<Figure size 1080x720 with 1 Axes>"
      ]
     },
     "metadata": {
      "needs_background": "light"
     },
     "output_type": "display_data"
    }
   ],
   "source": [
    "# checking outliers with boxplot\n",
    "numeric_cols = ['STORE_NBR', 'LYLTY_CARD_NBR', 'PROD_NBR', 'PROD_QTY', 'TOT_SALES']\n",
    "plt.figure(figsize=[15,10])\n",
    "plt.boxplot(dft[numeric_cols])\n",
    "plt.title('OUTLIERS')"
   ]
  },
  {
   "cell_type": "code",
   "execution_count": 30,
   "id": "437b343d",
   "metadata": {
    "id": "437b343d"
   },
   "outputs": [],
   "source": [
    "# LYLTY Card number has some outliers present by looking to boxplot"
   ]
  },
  {
   "cell_type": "code",
   "execution_count": 31,
   "id": "652e1d85",
   "metadata": {
    "id": "652e1d85",
    "outputId": "728819b9-287f-4770-992c-de3a1ad3c7be",
    "scrolled": true
   },
   "outputs": [
    {
     "name": "stdout",
     "output_type": "stream",
     "text": [
      "         DATE  STORE_NBR  LYLTY_CARD_NBR  TXN_ID  PROD_NBR  \\\n",
      "1440    43298         77         2330211  236744        94   \n",
      "15676   43315         88         2370651  240350         4   \n",
      "19455   43350         77         2330031  236717        19   \n",
      "19463   43288         77         2330031  236716       102   \n",
      "32030   43302         77         2330461  236777        87   \n",
      "39777   43357        237          880171   86305        32   \n",
      "39778   43371        237          880171   86306        24   \n",
      "39794   43347        237          880711   86566        31   \n",
      "39795   43358        237          880711   86567         3   \n",
      "53106   43397         88         2370961  240480        70   \n",
      "53107   43400         88         2370961  240481        65   \n",
      "80809   43411         77         2330191  236740        67   \n",
      "96939   43636         77         2330501  236780        63   \n",
      "97171   43399         88         2370361  240224        25   \n",
      "97172   43451         88         2370581  240317        93   \n",
      "97173   43460         88         2370581  240318         9   \n",
      "99033   43413         77         2330291  236752        89   \n",
      "99034   43414         77         2330291  236753         3   \n",
      "104927  43312         77         2330431  236770        50   \n",
      "105897  43355        237          883791   88099        87   \n",
      "105898  43372        237          883791   88100        33   \n",
      "105899  43645        237          883791   88103        68   \n",
      "115267  43634         77         2330291  236754        83   \n",
      "123456  43642        155          861921   85336         4   \n",
      "123510  43354        237          880551   86491        59   \n",
      "133253  43322         88         2370001  240064       102   \n",
      "135105  43422         77         2330331  236760        95   \n",
      "135106  43433         77         2330251  236747        14   \n",
      "135734  43430         77         2330121  236729        10   \n",
      "140568  43642        155          861951   85355        28   \n",
      "169023  43638         77         2330081  236723        30   \n",
      "169026  43636         77         2330171  236737         5   \n",
      "172311  43350         77         2330051  236719        78   \n",
      "191105  43628        155          861961   85362        11   \n",
      "191117  43630        155          862501   85677        78   \n",
      "191118  43644        155          862501   85678        16   \n",
      "215358  43645         77         2330271  236749       114   \n",
      "215522  43442         88         2370701  240378        24   \n",
      "227371  43374         88         2370751  240394        60   \n",
      "228460  43413         77         2330311  236755        90   \n",
      "238493  43366         77         2330041  236718        24   \n",
      "244444  43311         77         2330321  236756        71   \n",
      "255925  43314         88         2370181  240146        36   \n",
      "256040  43448         88         2373711  241815        16   \n",
      "\n",
      "                                       PROD_NAME  PROD_QTY  TOT_SALES  \n",
      "1440                           Burger Rings 220g         1        2.3  \n",
      "15676           Dorito Corn Chp     Supreme 380g         2       13.0  \n",
      "19455        Smiths Crinkle Cut  Snag&Sauce 150g         2        5.2  \n",
      "19463     Kettle Mozzarella   Basil & Pesto 175g         1        5.4  \n",
      "32030    Infuzions BBQ Rib   Prawn Crackers 110g         1        3.8  \n",
      "39777       Kettle Sea Salt     And Vinegar 175g         2       10.8  \n",
      "39778      Grain Waves         Sweet Chilli 210g         2        7.2  \n",
      "39794     Infzns Crn Crnchers Tangy Gcamole 110g         2        7.6  \n",
      "39795   Kettle Sensations   Camembert & Fig 150g         2        9.2  \n",
      "53106    Tyrrells Crisps     Lightly Salted 165g         2        8.4  \n",
      "53107   Old El Paso Salsa   Dip Chnky Tom Ht300g         2       10.2  \n",
      "80809           RRD Chilli&         Coconut 150g         1        2.7  \n",
      "96939               Kettle 135g Swt Pot Sea Salt         1        4.2  \n",
      "97171             Pringles SourCream  Onion 134g         2        7.4  \n",
      "97172    Doritos Corn Chip Southern Chicken 150g         2        7.8  \n",
      "97173    Kettle Tortilla ChpsBtroot&Ricotta 150g         2        9.2  \n",
      "99033    Kettle Sweet Chilli And Sour Cream 175g         1        5.4  \n",
      "99034   Kettle Sensations   Camembert & Fig 150g         1        4.6  \n",
      "104927           Tostitos Lightly    Salted 175g         1        4.4  \n",
      "105897   Infuzions BBQ Rib   Prawn Crackers 110g         2        7.6  \n",
      "105898  Cobs Popd Swt/Chlli &Sr/Cream Chips 110g         2        7.6  \n",
      "105899       Pringles Chicken    Salt Crips 134g         2        7.4  \n",
      "115267         WW D/Style Chip     Sea Salt 200g         1        1.9  \n",
      "123456          Dorito Corn Chp     Supreme 380g         2       13.0  \n",
      "123510   Old El Paso Salsa   Dip Tomato Med 300g         2       10.2  \n",
      "133253    Kettle Mozzarella   Basil & Pesto 175g         2       10.8  \n",
      "135105  Sunbites Whlegrn    Crisps Frch/Onin 90g         2        3.4  \n",
      "135106    Smiths Crnkle Chip  Orgnl Big Bag 380g         2       11.8  \n",
      "135734       RRD SR Slow Rst     Pork Belly 150g         2        5.4  \n",
      "140568      Thins Potato Chips  Hot & Spicy 175g         2        6.6  \n",
      "169023   Doritos Corn Chips  Cheese Supreme 170g         2        8.8  \n",
      "169026    Natural Chip        Compny SeaSalt175g         2        6.0  \n",
      "172311          Thins Chips Salt &  Vinegar 175g         2        6.6  \n",
      "191105                  RRD Pc Sea Salt     165g         2        6.0  \n",
      "191117          Thins Chips Salt &  Vinegar 175g         2        6.6  \n",
      "191118  Smiths Crinkle Chips Salt & Vinegar 330g         2       11.4  \n",
      "215358     Kettle Sensations   Siracha Lime 150g         2        9.2  \n",
      "215522     Grain Waves         Sweet Chilli 210g         2        7.2  \n",
      "227371      Kettle Tortilla ChpsFeta&Garlic 150g         2        9.2  \n",
      "228460         Tostitos Smoked     Chipotle 175g         1        4.4  \n",
      "238493     Grain Waves         Sweet Chilli 210g         2        7.2  \n",
      "244444           Twisties Cheese     Burger 250g         2        8.6  \n",
      "255925                        Kettle Chilli 175g         2       10.8  \n",
      "256040  Smiths Crinkle Chips Salt & Vinegar 330g         2       11.4  \n"
     ]
    }
   ],
   "source": [
    "# checking outliers using IQR method\n",
    "Q1 = dft['LYLTY_CARD_NBR'].quantile(0.25)\n",
    "Q3 = dft['LYLTY_CARD_NBR'].quantile(0.75)\n",
    "IQR = Q3 - Q1\n",
    "upper_bound = Q3 + 1.5*IQR\n",
    "lower_bound = Q1 - 1.5*IQR\n",
    "\n",
    "# Identify outliers\n",
    "outliers = dft[(dft['LYLTY_CARD_NBR'] < lower_bound) | (dft['LYLTY_CARD_NBR'] > upper_bound)]\n",
    "print(outliers)\n",
    "\n",
    "# Replace outliers with the median value\n",
    "median = dft['LYLTY_CARD_NBR'].median()\n",
    "dft['LYLTY_CARD_NBR'] = np.where((dft['LYLTY_CARD_NBR'] < lower_bound) | \n",
    "                                 (dft['LYLTY_CARD_NBR'] > upper_bound), median, dft['LYLTY_CARD_NBR'])\n",
    "\n"
   ]
  },
  {
   "cell_type": "code",
   "execution_count": 32,
   "id": "e7bcf280",
   "metadata": {
    "id": "e7bcf280",
    "outputId": "a749d8ee-672c-4009-9f1f-6ce76a824b33"
   },
   "outputs": [
    {
     "data": {
      "text/plain": [
       "Text(0.5, 1.0, 'OUTLIERS')"
      ]
     },
     "execution_count": 32,
     "metadata": {},
     "output_type": "execute_result"
    },
    {
     "data": {
      "image/png": "[encoded data removed]",
      "text/plain": [
       "<Figure size 1080x720 with 1 Axes>"
      ]
     },
     "metadata": {
      "needs_background": "light"
     },
     "output_type": "display_data"
    }
   ],
   "source": [
    "# viewing the outliers present after \n",
    "numeric_cols = ['STORE_NBR', 'LYLTY_CARD_NBR', 'PROD_NBR', 'PROD_QTY', 'TOT_SALES']\n",
    "plt.figure(figsize=[15,10])\n",
    "plt.boxplot(dft[numeric_cols])\n",
    "plt.title('OUTLIERS')"
   ]
  },
  {
   "cell_type": "code",
   "execution_count": 33,
   "id": "455011e1",
   "metadata": {
    "id": "455011e1",
    "outputId": "eea7dc25-99bb-48fd-e347-0693500f4fb1"
   },
   "outputs": [
    {
     "data": {
      "text/html": [
       "<div>\n",
       "<style scoped>\n",
       "    .dataframe tbody tr th:only-of-type {\n",
       "        vertical-align: middle;\n",
       "    }\n",
       "\n",
       "    .dataframe tbody tr th {\n",
       "        vertical-align: top;\n",
       "    }\n",
       "\n",
       "    .dataframe thead th {\n",
       "        text-align: right;\n",
       "    }\n",
       "</style>\n",
       "<table border=\"1\" class=\"dataframe\">\n",
       "  <thead>\n",
       "    <tr style=\"text-align: right;\">\n",
       "      <th></th>\n",
       "      <th>DATE</th>\n",
       "      <th>STORE_NBR</th>\n",
       "      <th>LYLTY_CARD_NBR</th>\n",
       "      <th>TXN_ID</th>\n",
       "      <th>PROD_NBR</th>\n",
       "      <th>PROD_NAME</th>\n",
       "      <th>PROD_QTY</th>\n",
       "      <th>TOT_SALES</th>\n",
       "    </tr>\n",
       "  </thead>\n",
       "  <tbody>\n",
       "    <tr>\n",
       "      <th>1440</th>\n",
       "      <td>43298</td>\n",
       "      <td>77</td>\n",
       "      <td>2330211</td>\n",
       "      <td>236744</td>\n",
       "      <td>94</td>\n",
       "      <td>Burger Rings 220g</td>\n",
       "      <td>1</td>\n",
       "      <td>2.3</td>\n",
       "    </tr>\n",
       "    <tr>\n",
       "      <th>15676</th>\n",
       "      <td>43315</td>\n",
       "      <td>88</td>\n",
       "      <td>2370651</td>\n",
       "      <td>240350</td>\n",
       "      <td>4</td>\n",
       "      <td>Dorito Corn Chp     Supreme 380g</td>\n",
       "      <td>2</td>\n",
       "      <td>13.0</td>\n",
       "    </tr>\n",
       "    <tr>\n",
       "      <th>19455</th>\n",
       "      <td>43350</td>\n",
       "      <td>77</td>\n",
       "      <td>2330031</td>\n",
       "      <td>236717</td>\n",
       "      <td>19</td>\n",
       "      <td>Smiths Crinkle Cut  Snag&amp;Sauce 150g</td>\n",
       "      <td>2</td>\n",
       "      <td>5.2</td>\n",
       "    </tr>\n",
       "    <tr>\n",
       "      <th>19463</th>\n",
       "      <td>43288</td>\n",
       "      <td>77</td>\n",
       "      <td>2330031</td>\n",
       "      <td>236716</td>\n",
       "      <td>102</td>\n",
       "      <td>Kettle Mozzarella   Basil &amp; Pesto 175g</td>\n",
       "      <td>1</td>\n",
       "      <td>5.4</td>\n",
       "    </tr>\n",
       "    <tr>\n",
       "      <th>32030</th>\n",
       "      <td>43302</td>\n",
       "      <td>77</td>\n",
       "      <td>2330461</td>\n",
       "      <td>236777</td>\n",
       "      <td>87</td>\n",
       "      <td>Infuzions BBQ Rib   Prawn Crackers 110g</td>\n",
       "      <td>1</td>\n",
       "      <td>3.8</td>\n",
       "    </tr>\n",
       "  </tbody>\n",
       "</table>\n",
       "</div>"
      ],
      "text/plain": [
       "        DATE  STORE_NBR  LYLTY_CARD_NBR  TXN_ID  PROD_NBR  \\\n",
       "1440   43298         77         2330211  236744        94   \n",
       "15676  43315         88         2370651  240350         4   \n",
       "19455  43350         77         2330031  236717        19   \n",
       "19463  43288         77         2330031  236716       102   \n",
       "32030  43302         77         2330461  236777        87   \n",
       "\n",
       "                                     PROD_NAME  PROD_QTY  TOT_SALES  \n",
       "1440                         Burger Rings 220g         1        2.3  \n",
       "15676         Dorito Corn Chp     Supreme 380g         2       13.0  \n",
       "19455      Smiths Crinkle Cut  Snag&Sauce 150g         2        5.2  \n",
       "19463   Kettle Mozzarella   Basil & Pesto 175g         1        5.4  \n",
       "32030  Infuzions BBQ Rib   Prawn Crackers 110g         1        3.8  "
      ]
     },
     "execution_count": 33,
     "metadata": {},
     "output_type": "execute_result"
    }
   ],
   "source": [
    "# checking number of outliers in LYLTY_CARD_NBR\n",
    "outliers.head()"
   ]
  },
  {
   "cell_type": "code",
   "execution_count": null,
   "id": "45258f20",
   "metadata": {
    "id": "45258f20"
   },
   "outputs": [],
   "source": []
  },
  {
   "cell_type": "code",
   "execution_count": 34,
   "id": "c4fcd0c1",
   "metadata": {
    "id": "c4fcd0c1",
    "outputId": "f8186919-6512-49d7-ba7f-e0d859c8fe04"
   },
   "outputs": [
    {
     "data": {
      "text/plain": [
       "Text(0.5, 1.0, 'OUTLIERS')"
      ]
     },
     "execution_count": 34,
     "metadata": {},
     "output_type": "execute_result"
    },
    {
     "data": {
      "image/png": "[encoded data removed]",
      "text/plain": [
       "<Figure size 1080x720 with 1 Axes>"
      ]
     },
     "metadata": {
      "needs_background": "light"
     },
     "output_type": "display_data"
    }
   ],
   "source": [
    "#plotting box plot to check outliers after imputation with median value.\n",
    "numeric_cols = ['STORE_NBR', 'LYLTY_CARD_NBR', 'PROD_NBR', 'PROD_QTY', 'TOT_SALES']\n",
    "plt.figure(figsize=[15,10])\n",
    "plt.boxplot(dft[numeric_cols])\n",
    "plt.title('OUTLIERS')"
   ]
  },
  {
   "cell_type": "code",
   "execution_count": 35,
   "id": "a32abde3",
   "metadata": {
    "id": "a32abde3",
    "scrolled": true
   },
   "outputs": [],
   "source": [
    "# converting Date column into Date format\n",
    "from datetime import datetime\n",
    "dft['Date'] = pd.to_datetime(dft['DATE'], unit='D', origin='1899-12-30')"
   ]
  },
  {
   "cell_type": "code",
   "execution_count": 36,
   "id": "ba1d0103",
   "metadata": {
    "id": "ba1d0103",
    "outputId": "b70f1c0e-8a5f-478e-b774-1d151a864b96"
   },
   "outputs": [
    {
     "name": "stdout",
     "output_type": "stream",
     "text": [
      "<class 'pandas.core.frame.DataFrame'>\n",
      "Int64Index: 264834 entries, 0 to 264835\n",
      "Data columns (total 9 columns):\n",
      " #   Column          Non-Null Count   Dtype         \n",
      "---  ------          --------------   -----         \n",
      " 0   DATE            264834 non-null  int64         \n",
      " 1   STORE_NBR       264834 non-null  int64         \n",
      " 2   LYLTY_CARD_NBR  264834 non-null  float64       \n",
      " 3   TXN_ID          264834 non-null  int64         \n",
      " 4   PROD_NBR        264834 non-null  int64         \n",
      " 5   PROD_NAME       264834 non-null  object        \n",
      " 6   PROD_QTY        264834 non-null  int64         \n",
      " 7   TOT_SALES       264834 non-null  float64       \n",
      " 8   Date            264834 non-null  datetime64[ns]\n",
      "dtypes: datetime64[ns](1), float64(2), int64(5), object(1)\n",
      "memory usage: 20.2+ MB\n"
     ]
    }
   ],
   "source": [
    "# checking data types of data set\n",
    "dft.info()"
   ]
  },
  {
   "cell_type": "code",
   "execution_count": 37,
   "id": "55cbfcea",
   "metadata": {
    "id": "55cbfcea",
    "outputId": "6d6b76f5-cead-4235-ceb1-3febf313f90d",
    "scrolled": true
   },
   "outputs": [
    {
     "data": {
      "text/html": [
       "<div>\n",
       "<style scoped>\n",
       "    .dataframe tbody tr th:only-of-type {\n",
       "        vertical-align: middle;\n",
       "    }\n",
       "\n",
       "    .dataframe tbody tr th {\n",
       "        vertical-align: top;\n",
       "    }\n",
       "\n",
       "    .dataframe thead th {\n",
       "        text-align: right;\n",
       "    }\n",
       "</style>\n",
       "<table border=\"1\" class=\"dataframe\">\n",
       "  <thead>\n",
       "    <tr style=\"text-align: right;\">\n",
       "      <th></th>\n",
       "      <th>DATE</th>\n",
       "      <th>STORE_NBR</th>\n",
       "      <th>LYLTY_CARD_NBR</th>\n",
       "      <th>TXN_ID</th>\n",
       "      <th>PROD_NBR</th>\n",
       "      <th>PROD_NAME</th>\n",
       "      <th>PROD_QTY</th>\n",
       "      <th>TOT_SALES</th>\n",
       "      <th>Date</th>\n",
       "    </tr>\n",
       "  </thead>\n",
       "  <tbody>\n",
       "    <tr>\n",
       "      <th>0</th>\n",
       "      <td>43390</td>\n",
       "      <td>1</td>\n",
       "      <td>1000.0</td>\n",
       "      <td>1</td>\n",
       "      <td>5</td>\n",
       "      <td>Natural Chip        Compny SeaSalt175g</td>\n",
       "      <td>2</td>\n",
       "      <td>6.0</td>\n",
       "      <td>2018-10-17</td>\n",
       "    </tr>\n",
       "    <tr>\n",
       "      <th>1</th>\n",
       "      <td>43599</td>\n",
       "      <td>1</td>\n",
       "      <td>1307.0</td>\n",
       "      <td>348</td>\n",
       "      <td>66</td>\n",
       "      <td>CCs Nacho Cheese    175g</td>\n",
       "      <td>3</td>\n",
       "      <td>6.3</td>\n",
       "      <td>2019-05-14</td>\n",
       "    </tr>\n",
       "    <tr>\n",
       "      <th>2</th>\n",
       "      <td>43605</td>\n",
       "      <td>1</td>\n",
       "      <td>1343.0</td>\n",
       "      <td>383</td>\n",
       "      <td>61</td>\n",
       "      <td>Smiths Crinkle Cut  Chips Chicken 170g</td>\n",
       "      <td>2</td>\n",
       "      <td>2.9</td>\n",
       "      <td>2019-05-20</td>\n",
       "    </tr>\n",
       "    <tr>\n",
       "      <th>3</th>\n",
       "      <td>43329</td>\n",
       "      <td>2</td>\n",
       "      <td>2373.0</td>\n",
       "      <td>974</td>\n",
       "      <td>69</td>\n",
       "      <td>Smiths Chip Thinly  S/Cream&amp;Onion 175g</td>\n",
       "      <td>5</td>\n",
       "      <td>15.0</td>\n",
       "      <td>2018-08-17</td>\n",
       "    </tr>\n",
       "    <tr>\n",
       "      <th>4</th>\n",
       "      <td>43330</td>\n",
       "      <td>2</td>\n",
       "      <td>2426.0</td>\n",
       "      <td>1038</td>\n",
       "      <td>108</td>\n",
       "      <td>Kettle Tortilla ChpsHny&amp;Jlpno Chili 150g</td>\n",
       "      <td>3</td>\n",
       "      <td>13.8</td>\n",
       "      <td>2018-08-18</td>\n",
       "    </tr>\n",
       "  </tbody>\n",
       "</table>\n",
       "</div>"
      ],
      "text/plain": [
       "    DATE  STORE_NBR  LYLTY_CARD_NBR  TXN_ID  PROD_NBR  \\\n",
       "0  43390          1          1000.0       1         5   \n",
       "1  43599          1          1307.0     348        66   \n",
       "2  43605          1          1343.0     383        61   \n",
       "3  43329          2          2373.0     974        69   \n",
       "4  43330          2          2426.0    1038       108   \n",
       "\n",
       "                                  PROD_NAME  PROD_QTY  TOT_SALES       Date  \n",
       "0    Natural Chip        Compny SeaSalt175g         2        6.0 2018-10-17  \n",
       "1                  CCs Nacho Cheese    175g         3        6.3 2019-05-14  \n",
       "2    Smiths Crinkle Cut  Chips Chicken 170g         2        2.9 2019-05-20  \n",
       "3    Smiths Chip Thinly  S/Cream&Onion 175g         5       15.0 2018-08-17  \n",
       "4  Kettle Tortilla ChpsHny&Jlpno Chili 150g         3       13.8 2018-08-18  "
      ]
     },
     "execution_count": 37,
     "metadata": {},
     "output_type": "execute_result"
    }
   ],
   "source": [
    "dft.head()"
   ]
  },
  {
   "cell_type": "code",
   "execution_count": 38,
   "id": "f32f9fc9",
   "metadata": {
    "id": "f32f9fc9",
    "outputId": "8a38f4b3-c655-4005-a490-6a3d36347b4e"
   },
   "outputs": [
    {
     "data": {
      "text/plain": [
       "0         43390\n",
       "1         43599\n",
       "2         43605\n",
       "3         43329\n",
       "4         43330\n",
       "          ...  \n",
       "264831    43533\n",
       "264832    43325\n",
       "264833    43410\n",
       "264834    43461\n",
       "264835    43365\n",
       "Name: DATE, Length: 264834, dtype: int64"
      ]
     },
     "execution_count": 38,
     "metadata": {},
     "output_type": "execute_result"
    }
   ],
   "source": [
    "dft['DATE']"
   ]
  },
  {
   "cell_type": "code",
   "execution_count": 39,
   "id": "7b2e36d8",
   "metadata": {
    "id": "7b2e36d8"
   },
   "outputs": [],
   "source": [
    "# creating New column product size from product name\n",
    "dft['PRODUCT_SIZE']=dft['PROD_NAME'].copy()"
   ]
  },
  {
   "cell_type": "code",
   "execution_count": 40,
   "id": "0b3f8116",
   "metadata": {
    "id": "0b3f8116"
   },
   "outputs": [],
   "source": [
    "# Extracting all the string values from the product size\n",
    "dft['PRODUCT_SIZE'] = dft['PRODUCT_SIZE'].str.extract('(\\d+)')[0]\n",
    "dft['PRODUCT_SIZE'] = dft['PRODUCT_SIZE'].str.lower()"
   ]
  },
  {
   "cell_type": "code",
   "execution_count": null,
   "id": "bb408e99",
   "metadata": {
    "id": "bb408e99"
   },
   "outputs": [],
   "source": []
  },
  {
   "cell_type": "code",
   "execution_count": 41,
   "id": "5cb26079",
   "metadata": {
    "id": "5cb26079"
   },
   "outputs": [],
   "source": [
    "#Removing all the sepcial characters from the Product Name\n",
    "dft['PROD_NAME']=dft['PROD_NAME'].str.replace('\\d+g','')\n",
    "dft['PROD_NAME']=dft['PROD_NAME'].str.replace('@,#,$,%,&,*,?,/,g','')"
   ]
  },
  {
   "cell_type": "code",
   "execution_count": 42,
   "id": "69c489e4",
   "metadata": {
    "id": "69c489e4",
    "outputId": "8ed16143-3b92-48ef-95d0-2a094d622322"
   },
   "outputs": [
    {
     "data": {
      "text/html": [
       "<div>\n",
       "<style scoped>\n",
       "    .dataframe tbody tr th:only-of-type {\n",
       "        vertical-align: middle;\n",
       "    }\n",
       "\n",
       "    .dataframe tbody tr th {\n",
       "        vertical-align: top;\n",
       "    }\n",
       "\n",
       "    .dataframe thead th {\n",
       "        text-align: right;\n",
       "    }\n",
       "</style>\n",
       "<table border=\"1\" class=\"dataframe\">\n",
       "  <thead>\n",
       "    <tr style=\"text-align: right;\">\n",
       "      <th></th>\n",
       "      <th>DATE</th>\n",
       "      <th>STORE_NBR</th>\n",
       "      <th>LYLTY_CARD_NBR</th>\n",
       "      <th>TXN_ID</th>\n",
       "      <th>PROD_NBR</th>\n",
       "      <th>PROD_NAME</th>\n",
       "      <th>PROD_QTY</th>\n",
       "      <th>TOT_SALES</th>\n",
       "      <th>Date</th>\n",
       "      <th>PRODUCT_SIZE</th>\n",
       "    </tr>\n",
       "  </thead>\n",
       "  <tbody>\n",
       "    <tr>\n",
       "      <th>0</th>\n",
       "      <td>43390</td>\n",
       "      <td>1</td>\n",
       "      <td>1000.0</td>\n",
       "      <td>1</td>\n",
       "      <td>5</td>\n",
       "      <td>Natural Chip        Compny SeaSalt</td>\n",
       "      <td>2</td>\n",
       "      <td>6.0</td>\n",
       "      <td>2018-10-17</td>\n",
       "      <td>175</td>\n",
       "    </tr>\n",
       "    <tr>\n",
       "      <th>1</th>\n",
       "      <td>43599</td>\n",
       "      <td>1</td>\n",
       "      <td>1307.0</td>\n",
       "      <td>348</td>\n",
       "      <td>66</td>\n",
       "      <td>CCs Nacho Cheese</td>\n",
       "      <td>3</td>\n",
       "      <td>6.3</td>\n",
       "      <td>2019-05-14</td>\n",
       "      <td>175</td>\n",
       "    </tr>\n",
       "    <tr>\n",
       "      <th>2</th>\n",
       "      <td>43605</td>\n",
       "      <td>1</td>\n",
       "      <td>1343.0</td>\n",
       "      <td>383</td>\n",
       "      <td>61</td>\n",
       "      <td>Smiths Crinkle Cut  Chips Chicken</td>\n",
       "      <td>2</td>\n",
       "      <td>2.9</td>\n",
       "      <td>2019-05-20</td>\n",
       "      <td>170</td>\n",
       "    </tr>\n",
       "    <tr>\n",
       "      <th>3</th>\n",
       "      <td>43329</td>\n",
       "      <td>2</td>\n",
       "      <td>2373.0</td>\n",
       "      <td>974</td>\n",
       "      <td>69</td>\n",
       "      <td>Smiths Chip Thinly  S/Cream&amp;Onion</td>\n",
       "      <td>5</td>\n",
       "      <td>15.0</td>\n",
       "      <td>2018-08-17</td>\n",
       "      <td>175</td>\n",
       "    </tr>\n",
       "    <tr>\n",
       "      <th>4</th>\n",
       "      <td>43330</td>\n",
       "      <td>2</td>\n",
       "      <td>2426.0</td>\n",
       "      <td>1038</td>\n",
       "      <td>108</td>\n",
       "      <td>Kettle Tortilla ChpsHny&amp;Jlpno Chili</td>\n",
       "      <td>3</td>\n",
       "      <td>13.8</td>\n",
       "      <td>2018-08-18</td>\n",
       "      <td>150</td>\n",
       "    </tr>\n",
       "  </tbody>\n",
       "</table>\n",
       "</div>"
      ],
      "text/plain": [
       "    DATE  STORE_NBR  LYLTY_CARD_NBR  TXN_ID  PROD_NBR  \\\n",
       "0  43390          1          1000.0       1         5   \n",
       "1  43599          1          1307.0     348        66   \n",
       "2  43605          1          1343.0     383        61   \n",
       "3  43329          2          2373.0     974        69   \n",
       "4  43330          2          2426.0    1038       108   \n",
       "\n",
       "                              PROD_NAME  PROD_QTY  TOT_SALES       Date  \\\n",
       "0    Natural Chip        Compny SeaSalt         2        6.0 2018-10-17   \n",
       "1                  CCs Nacho Cheese             3        6.3 2019-05-14   \n",
       "2    Smiths Crinkle Cut  Chips Chicken          2        2.9 2019-05-20   \n",
       "3    Smiths Chip Thinly  S/Cream&Onion          5       15.0 2018-08-17   \n",
       "4  Kettle Tortilla ChpsHny&Jlpno Chili          3       13.8 2018-08-18   \n",
       "\n",
       "  PRODUCT_SIZE  \n",
       "0          175  \n",
       "1          175  \n",
       "2          170  \n",
       "3          175  \n",
       "4          150  "
      ]
     },
     "execution_count": 42,
     "metadata": {},
     "output_type": "execute_result"
    }
   ],
   "source": [
    "dft.head()"
   ]
  },
  {
   "cell_type": "code",
   "execution_count": 43,
   "id": "004aab97",
   "metadata": {
    "id": "004aab97",
    "outputId": "312056e5-592d-4f7a-b2ce-a73d81940488"
   },
   "outputs": [
    {
     "data": {
      "text/html": [
       "<div>\n",
       "<style scoped>\n",
       "    .dataframe tbody tr th:only-of-type {\n",
       "        vertical-align: middle;\n",
       "    }\n",
       "\n",
       "    .dataframe tbody tr th {\n",
       "        vertical-align: top;\n",
       "    }\n",
       "\n",
       "    .dataframe thead th {\n",
       "        text-align: right;\n",
       "    }\n",
       "</style>\n",
       "<table border=\"1\" class=\"dataframe\">\n",
       "  <thead>\n",
       "    <tr style=\"text-align: right;\">\n",
       "      <th></th>\n",
       "      <th>STORE_NBR</th>\n",
       "      <th>LYLTY_CARD_NBR</th>\n",
       "      <th>TXN_ID</th>\n",
       "      <th>PROD_NBR</th>\n",
       "      <th>PROD_NAME</th>\n",
       "      <th>PROD_QTY</th>\n",
       "      <th>TOT_SALES</th>\n",
       "      <th>Date</th>\n",
       "      <th>PRODUCT_SIZE</th>\n",
       "    </tr>\n",
       "  </thead>\n",
       "  <tbody>\n",
       "    <tr>\n",
       "      <th>0</th>\n",
       "      <td>1</td>\n",
       "      <td>1000.0</td>\n",
       "      <td>1</td>\n",
       "      <td>5</td>\n",
       "      <td>Natural Chip        Compny SeaSalt</td>\n",
       "      <td>2</td>\n",
       "      <td>6.0</td>\n",
       "      <td>2018-10-17</td>\n",
       "      <td>175</td>\n",
       "    </tr>\n",
       "    <tr>\n",
       "      <th>1</th>\n",
       "      <td>1</td>\n",
       "      <td>1307.0</td>\n",
       "      <td>348</td>\n",
       "      <td>66</td>\n",
       "      <td>CCs Nacho Cheese</td>\n",
       "      <td>3</td>\n",
       "      <td>6.3</td>\n",
       "      <td>2019-05-14</td>\n",
       "      <td>175</td>\n",
       "    </tr>\n",
       "    <tr>\n",
       "      <th>2</th>\n",
       "      <td>1</td>\n",
       "      <td>1343.0</td>\n",
       "      <td>383</td>\n",
       "      <td>61</td>\n",
       "      <td>Smiths Crinkle Cut  Chips Chicken</td>\n",
       "      <td>2</td>\n",
       "      <td>2.9</td>\n",
       "      <td>2019-05-20</td>\n",
       "      <td>170</td>\n",
       "    </tr>\n",
       "    <tr>\n",
       "      <th>3</th>\n",
       "      <td>2</td>\n",
       "      <td>2373.0</td>\n",
       "      <td>974</td>\n",
       "      <td>69</td>\n",
       "      <td>Smiths Chip Thinly  S/Cream&amp;Onion</td>\n",
       "      <td>5</td>\n",
       "      <td>15.0</td>\n",
       "      <td>2018-08-17</td>\n",
       "      <td>175</td>\n",
       "    </tr>\n",
       "    <tr>\n",
       "      <th>4</th>\n",
       "      <td>2</td>\n",
       "      <td>2426.0</td>\n",
       "      <td>1038</td>\n",
       "      <td>108</td>\n",
       "      <td>Kettle Tortilla ChpsHny&amp;Jlpno Chili</td>\n",
       "      <td>3</td>\n",
       "      <td>13.8</td>\n",
       "      <td>2018-08-18</td>\n",
       "      <td>150</td>\n",
       "    </tr>\n",
       "  </tbody>\n",
       "</table>\n",
       "</div>"
      ],
      "text/plain": [
       "   STORE_NBR  LYLTY_CARD_NBR  TXN_ID  PROD_NBR  \\\n",
       "0          1          1000.0       1         5   \n",
       "1          1          1307.0     348        66   \n",
       "2          1          1343.0     383        61   \n",
       "3          2          2373.0     974        69   \n",
       "4          2          2426.0    1038       108   \n",
       "\n",
       "                              PROD_NAME  PROD_QTY  TOT_SALES       Date  \\\n",
       "0    Natural Chip        Compny SeaSalt         2        6.0 2018-10-17   \n",
       "1                  CCs Nacho Cheese             3        6.3 2019-05-14   \n",
       "2    Smiths Crinkle Cut  Chips Chicken          2        2.9 2019-05-20   \n",
       "3    Smiths Chip Thinly  S/Cream&Onion          5       15.0 2018-08-17   \n",
       "4  Kettle Tortilla ChpsHny&Jlpno Chili          3       13.8 2018-08-18   \n",
       "\n",
       "  PRODUCT_SIZE  \n",
       "0          175  \n",
       "1          175  \n",
       "2          170  \n",
       "3          175  \n",
       "4          150  "
      ]
     },
     "execution_count": 43,
     "metadata": {},
     "output_type": "execute_result"
    }
   ],
   "source": [
    "# Droping the DATE columns\n",
    "dft=dft.drop('DATE',axis=1)\n",
    "dft.head()"
   ]
  },
  {
   "cell_type": "code",
   "execution_count": 44,
   "id": "1218e7ef",
   "metadata": {
    "id": "1218e7ef",
    "outputId": "4902a7b5-211b-48ec-eee1-1332ccd3d4e9"
   },
   "outputs": [
    {
     "data": {
      "text/html": [
       "<div>\n",
       "<style scoped>\n",
       "    .dataframe tbody tr th:only-of-type {\n",
       "        vertical-align: middle;\n",
       "    }\n",
       "\n",
       "    .dataframe tbody tr th {\n",
       "        vertical-align: top;\n",
       "    }\n",
       "\n",
       "    .dataframe thead th {\n",
       "        text-align: right;\n",
       "    }\n",
       "</style>\n",
       "<table border=\"1\" class=\"dataframe\">\n",
       "  <thead>\n",
       "    <tr style=\"text-align: right;\">\n",
       "      <th></th>\n",
       "      <th>STORE_NBR</th>\n",
       "      <th>LYLTY_CARD_NBR</th>\n",
       "      <th>TXN_ID</th>\n",
       "      <th>PROD_NBR</th>\n",
       "      <th>PROD_NAME</th>\n",
       "      <th>PROD_QTY</th>\n",
       "      <th>TOT_SALES</th>\n",
       "      <th>Date</th>\n",
       "      <th>PRODUCT_SIZE</th>\n",
       "    </tr>\n",
       "  </thead>\n",
       "  <tbody>\n",
       "    <tr>\n",
       "      <th>0</th>\n",
       "      <td>1</td>\n",
       "      <td>1000.0</td>\n",
       "      <td>1</td>\n",
       "      <td>5</td>\n",
       "      <td>Natural Chip        Compny SeaSalt</td>\n",
       "      <td>2</td>\n",
       "      <td>6.0</td>\n",
       "      <td>2018-10-17</td>\n",
       "      <td>175</td>\n",
       "    </tr>\n",
       "    <tr>\n",
       "      <th>1</th>\n",
       "      <td>1</td>\n",
       "      <td>1307.0</td>\n",
       "      <td>348</td>\n",
       "      <td>66</td>\n",
       "      <td>CCs Nacho Cheese</td>\n",
       "      <td>3</td>\n",
       "      <td>6.3</td>\n",
       "      <td>2019-05-14</td>\n",
       "      <td>175</td>\n",
       "    </tr>\n",
       "    <tr>\n",
       "      <th>2</th>\n",
       "      <td>1</td>\n",
       "      <td>1343.0</td>\n",
       "      <td>383</td>\n",
       "      <td>61</td>\n",
       "      <td>Smiths Crinkle Cut  Chips Chicken</td>\n",
       "      <td>2</td>\n",
       "      <td>2.9</td>\n",
       "      <td>2019-05-20</td>\n",
       "      <td>170</td>\n",
       "    </tr>\n",
       "    <tr>\n",
       "      <th>3</th>\n",
       "      <td>2</td>\n",
       "      <td>2373.0</td>\n",
       "      <td>974</td>\n",
       "      <td>69</td>\n",
       "      <td>Smiths Chip Thinly  S/Cream&amp;Onion</td>\n",
       "      <td>5</td>\n",
       "      <td>15.0</td>\n",
       "      <td>2018-08-17</td>\n",
       "      <td>175</td>\n",
       "    </tr>\n",
       "    <tr>\n",
       "      <th>4</th>\n",
       "      <td>2</td>\n",
       "      <td>2426.0</td>\n",
       "      <td>1038</td>\n",
       "      <td>108</td>\n",
       "      <td>Kettle Tortilla ChpsHny&amp;Jlpno Chili</td>\n",
       "      <td>3</td>\n",
       "      <td>13.8</td>\n",
       "      <td>2018-08-18</td>\n",
       "      <td>150</td>\n",
       "    </tr>\n",
       "  </tbody>\n",
       "</table>\n",
       "</div>"
      ],
      "text/plain": [
       "   STORE_NBR  LYLTY_CARD_NBR  TXN_ID  PROD_NBR  \\\n",
       "0          1          1000.0       1         5   \n",
       "1          1          1307.0     348        66   \n",
       "2          1          1343.0     383        61   \n",
       "3          2          2373.0     974        69   \n",
       "4          2          2426.0    1038       108   \n",
       "\n",
       "                              PROD_NAME  PROD_QTY  TOT_SALES       Date  \\\n",
       "0    Natural Chip        Compny SeaSalt         2        6.0 2018-10-17   \n",
       "1                  CCs Nacho Cheese             3        6.3 2019-05-14   \n",
       "2    Smiths Crinkle Cut  Chips Chicken          2        2.9 2019-05-20   \n",
       "3    Smiths Chip Thinly  S/Cream&Onion          5       15.0 2018-08-17   \n",
       "4  Kettle Tortilla ChpsHny&Jlpno Chili          3       13.8 2018-08-18   \n",
       "\n",
       "  PRODUCT_SIZE  \n",
       "0          175  \n",
       "1          175  \n",
       "2          170  \n",
       "3          175  \n",
       "4          150  "
      ]
     },
     "execution_count": 44,
     "metadata": {},
     "output_type": "execute_result"
    }
   ],
   "source": [
    "dft.head()"
   ]
  },
  {
   "cell_type": "code",
   "execution_count": 45,
   "id": "10a915bc",
   "metadata": {
    "id": "10a915bc",
    "outputId": "0714c791-7041-4b5c-eae8-6faab71c79e2"
   },
   "outputs": [
    {
     "data": {
      "text/plain": [
       "114"
      ]
     },
     "execution_count": 45,
     "metadata": {},
     "output_type": "execute_result"
    }
   ],
   "source": [
    "# checking number of uniques chips name in product name\n",
    "dft['PROD_NAME'].nunique()"
   ]
  },
  {
   "cell_type": "code",
   "execution_count": 46,
   "id": "db0233e8",
   "metadata": {
    "id": "db0233e8",
    "outputId": "6d08ea4a-72d6-45cb-9b1f-36485b11fdee",
    "scrolled": true
   },
   "outputs": [
    {
     "data": {
      "text/plain": [
       "array(['Natural Chip        Compny SeaSalt', 'CCs Nacho Cheese    ',\n",
       "       'Smiths Crinkle Cut  Chips Chicken ',\n",
       "       'Smiths Chip Thinly  S/Cream&Onion ',\n",
       "       'Kettle Tortilla ChpsHny&Jlpno Chili ',\n",
       "       'Old El Paso Salsa   Dip Tomato Mild ',\n",
       "       'Smiths Crinkle Chips Salt & Vinegar ',\n",
       "       'Grain Waves         Sweet Chilli ',\n",
       "       'Doritos Corn Chip Mexican Jalapeno ',\n",
       "       'Grain Waves Sour    Cream&Chives 210G',\n",
       "       'Kettle Sensations   Siracha Lime ', 'Twisties Cheese     ',\n",
       "       'WW Crinkle Cut      Chicken ', 'Thins Chips Light&  Tangy ',\n",
       "       'CCs Original ', 'Burger Rings ',\n",
       "       'NCC Sour Cream &    Garden Chives ',\n",
       "       'Doritos Corn Chip Southern Chicken ', 'Cheezels Cheese Box ',\n",
       "       'Smiths Crinkle      Original ',\n",
       "       'Infzns Crn Crnchers Tangy Gcamole ',\n",
       "       'Kettle Sea Salt     And Vinegar ',\n",
       "       'Smiths Chip Thinly  Cut Original ', 'Kettle Original ',\n",
       "       'Red Rock Deli Thai  Chilli&Lime ', 'Pringles Sthrn FriedChicken ',\n",
       "       'Pringles Sweet&Spcy BBQ ', 'Red Rock Deli SR    Salsa & Mzzrlla ',\n",
       "       'Thins Chips         Originl saltd ',\n",
       "       'Red Rock Deli Sp    Salt & Truffle 150G',\n",
       "       'Smiths Thinly       Swt Chli&S/Cream175G', 'Kettle Chilli ',\n",
       "       'Doritos Mexicana    ', 'Smiths Crinkle Cut  French OnionDip ',\n",
       "       'Natural ChipCo      Hony Soy Chckn',\n",
       "       'Dorito Corn Chp     Supreme ', 'Twisties Chicken',\n",
       "       'Smiths Thinly Cut   Roast Chicken ',\n",
       "       'Smiths Crinkle Cut  Tomato Salsa ',\n",
       "       'Kettle Mozzarella   Basil & Pesto ',\n",
       "       'Infuzions Thai SweetChili PotatoMix ',\n",
       "       'Kettle Sensations   Camembert & Fig ',\n",
       "       'Smith Crinkle Cut   Mac N Cheese ',\n",
       "       'Kettle Honey Soy    Chicken ', 'Thins Chips Seasonedchicken ',\n",
       "       'Smiths Crinkle Cut  Salt & Vinegar ',\n",
       "       'Infuzions BBQ Rib   Prawn Crackers ',\n",
       "       'GrnWves Plus Btroot & Chilli Jam ',\n",
       "       'Tyrrells Crisps     Lightly Salted ',\n",
       "       'Kettle Sweet Chilli And Sour Cream ',\n",
       "       'Doritos Salsa       Medium ', 'Kettle  Swt Pot Sea Salt',\n",
       "       'Pringles SourCream  Onion ', 'Doritos Corn Chips  Original ',\n",
       "       'Twisties Cheese     Burger ',\n",
       "       'Old El Paso Salsa   Dip Chnky Tom Ht',\n",
       "       'Cobs Popd Swt/Chlli &Sr/Cream Chips ',\n",
       "       'Woolworths Mild     Salsa ',\n",
       "       'Natural Chip Co     Tmato Hrb&Spce ',\n",
       "       'Smiths Crinkle Cut  Chips Original ',\n",
       "       'Cobs Popd Sea Salt  Chips ',\n",
       "       'Smiths Crinkle Cut  Chips Chs&Onion',\n",
       "       'French Fries Potato Chips ',\n",
       "       'Old El Paso Salsa   Dip Tomato Med ',\n",
       "       'Doritos Corn Chips  Cheese Supreme ',\n",
       "       'Pringles Original   Crisps ', 'RRD Chilli&         Coconut ',\n",
       "       'WW Original Corn    Chips ', 'Thins Potato Chips  Hot & Spicy ',\n",
       "       'Cobs Popd Sour Crm  &Chives Chips ',\n",
       "       'Smiths Crnkle Chip  Orgnl Big Bag ',\n",
       "       'Doritos Corn Chips  Nacho Cheese ',\n",
       "       'Kettle Sensations   BBQ&Maple ', 'WW D/Style Chip     Sea Salt ',\n",
       "       'Pringles Chicken    Salt Crips ', 'WW Original Stacked Chips ',\n",
       "       'Smiths Chip Thinly  CutSalt/Vinegr', 'Cheezels Cheese ',\n",
       "       'Tostitos Lightly    Salted ', 'Thins Chips Salt &  Vinegar ',\n",
       "       'Smiths Crinkle Cut  Chips Barbecue ', 'Cheetos Puffs ',\n",
       "       'RRD Sweet Chilli &  Sour Cream ', 'WW Crinkle Cut      Original ',\n",
       "       'Tostitos Splash Of  Lime ', 'Woolworths Medium   Salsa ',\n",
       "       'Kettle Tortilla ChpsBtroot&Ricotta ', 'CCs Tasty Cheese    ',\n",
       "       'Woolworths Cheese   Rings ', 'Tostitos Smoked     Chipotle ',\n",
       "       'Pringles Barbeque   ', 'WW Supreme Cheese   Corn Chips ',\n",
       "       'Pringles Mystery    Flavour ',\n",
       "       'Tyrrells Crisps     Ched & Chives ',\n",
       "       'Snbts Whlgrn Crisps Cheddr&Mstrd ', 'Cheetos Chs & Bacon Balls ',\n",
       "       'Pringles Slt Vingar ', 'Infuzions SourCream&Herbs Veg Strws ',\n",
       "       'Kettle Tortilla ChpsFeta&Garlic ',\n",
       "       'Infuzions Mango     Chutny Papadums ',\n",
       "       'RRD Steak &         Chimuchurri ', 'RRD Honey Soy       Chicken ',\n",
       "       'Sunbites Whlegrn    Crisps Frch/Onin ', 'RRD Salt & Vinegar  ',\n",
       "       'Doritos Cheese      Supreme ', 'Smiths Crinkle Cut  Snag&Sauce ',\n",
       "       'WW Sour Cream &OnionStacked Chips ', 'RRD Lime & Pepper   ',\n",
       "       'Natural ChipCo Sea  Salt & Vinegr ',\n",
       "       'Red Rock Deli Chikn&Garlic Aioli ',\n",
       "       'RRD SR Slow Rst     Pork Belly ', 'RRD Pc Sea Salt     ',\n",
       "       'Smith Crinkle Cut   Bolognese ', 'Doritos Salsa Mild  '],\n",
       "      dtype=object)"
      ]
     },
     "execution_count": 46,
     "metadata": {},
     "output_type": "execute_result"
    }
   ],
   "source": [
    "# 114 types of unique product are present\n",
    "dft['PROD_NAME'].unique()"
   ]
  },
  {
   "cell_type": "code",
   "execution_count": 47,
   "id": "c5af3f58",
   "metadata": {
    "id": "c5af3f58",
    "outputId": "a1e438b7-0f23-422f-a1eb-38807008ed7a"
   },
   "outputs": [
    {
     "data": {
      "text/plain": [
       "Kettle Mozzarella   Basil & Pesto       3304\n",
       "Kettle Tortilla ChpsHny&Jlpno Chili     3296\n",
       "Cobs Popd Swt/Chlli &Sr/Cream Chips     3269\n",
       "Tyrrells Crisps     Ched & Chives       3268\n",
       "Cobs Popd Sea Salt  Chips               3265\n",
       "                                        ... \n",
       "RRD Pc Sea Salt                         1431\n",
       "Woolworths Medium   Salsa               1430\n",
       "NCC Sour Cream &    Garden Chives       1419\n",
       "French Fries Potato Chips               1418\n",
       "WW Crinkle Cut      Original            1410\n",
       "Name: PROD_NAME, Length: 114, dtype: int64"
      ]
     },
     "execution_count": 47,
     "metadata": {},
     "output_type": "execute_result"
    }
   ],
   "source": [
    "# counting number of unique product present in the column\n",
    "dft['PROD_NAME'].value_counts()"
   ]
  },
  {
   "cell_type": "code",
   "execution_count": 48,
   "id": "f9893161",
   "metadata": {
    "id": "f9893161"
   },
   "outputs": [],
   "source": [
    "#dft['PROD_NAME'].value_counts().sort_values()"
   ]
  },
  {
   "cell_type": "code",
   "execution_count": 49,
   "id": "f34766aa",
   "metadata": {
    "id": "f34766aa",
    "outputId": "0e6d7a11-086d-4ce9-bd93-fb1431aad661",
    "scrolled": false
   },
   "outputs": [
    {
     "data": {
      "text/html": [
       "<div>\n",
       "<style scoped>\n",
       "    .dataframe tbody tr th:only-of-type {\n",
       "        vertical-align: middle;\n",
       "    }\n",
       "\n",
       "    .dataframe tbody tr th {\n",
       "        vertical-align: top;\n",
       "    }\n",
       "\n",
       "    .dataframe thead th {\n",
       "        text-align: right;\n",
       "    }\n",
       "</style>\n",
       "<table border=\"1\" class=\"dataframe\">\n",
       "  <thead>\n",
       "    <tr style=\"text-align: right;\">\n",
       "      <th></th>\n",
       "      <th>LYLTY_CARD_NBR</th>\n",
       "      <th>LIFESTAGE</th>\n",
       "      <th>PREMIUM_CUSTOMER</th>\n",
       "      <th>STORE_NBR</th>\n",
       "      <th>TXN_ID</th>\n",
       "      <th>PROD_NBR</th>\n",
       "      <th>PROD_NAME</th>\n",
       "      <th>PROD_QTY</th>\n",
       "      <th>TOT_SALES</th>\n",
       "      <th>Date</th>\n",
       "      <th>PRODUCT_SIZE</th>\n",
       "    </tr>\n",
       "  </thead>\n",
       "  <tbody>\n",
       "    <tr>\n",
       "      <th>0</th>\n",
       "      <td>1000</td>\n",
       "      <td>YOUNG SINGLES/COUPLES</td>\n",
       "      <td>Premium</td>\n",
       "      <td>1</td>\n",
       "      <td>1</td>\n",
       "      <td>5</td>\n",
       "      <td>Natural Chip        Compny SeaSalt</td>\n",
       "      <td>2</td>\n",
       "      <td>6.0</td>\n",
       "      <td>2018-10-17</td>\n",
       "      <td>175</td>\n",
       "    </tr>\n",
       "    <tr>\n",
       "      <th>1</th>\n",
       "      <td>1002</td>\n",
       "      <td>YOUNG SINGLES/COUPLES</td>\n",
       "      <td>Mainstream</td>\n",
       "      <td>1</td>\n",
       "      <td>2</td>\n",
       "      <td>58</td>\n",
       "      <td>Red Rock Deli Chikn&amp;Garlic Aioli</td>\n",
       "      <td>1</td>\n",
       "      <td>2.7</td>\n",
       "      <td>2018-09-16</td>\n",
       "      <td>150</td>\n",
       "    </tr>\n",
       "    <tr>\n",
       "      <th>2</th>\n",
       "      <td>1003</td>\n",
       "      <td>YOUNG FAMILIES</td>\n",
       "      <td>Budget</td>\n",
       "      <td>1</td>\n",
       "      <td>3</td>\n",
       "      <td>52</td>\n",
       "      <td>Grain Waves Sour    Cream&amp;Chives 210G</td>\n",
       "      <td>1</td>\n",
       "      <td>3.6</td>\n",
       "      <td>2019-03-07</td>\n",
       "      <td>210</td>\n",
       "    </tr>\n",
       "    <tr>\n",
       "      <th>3</th>\n",
       "      <td>1003</td>\n",
       "      <td>YOUNG FAMILIES</td>\n",
       "      <td>Budget</td>\n",
       "      <td>1</td>\n",
       "      <td>4</td>\n",
       "      <td>106</td>\n",
       "      <td>Natural ChipCo      Hony Soy Chckn</td>\n",
       "      <td>1</td>\n",
       "      <td>3.0</td>\n",
       "      <td>2019-03-08</td>\n",
       "      <td>175</td>\n",
       "    </tr>\n",
       "    <tr>\n",
       "      <th>4</th>\n",
       "      <td>1004</td>\n",
       "      <td>OLDER SINGLES/COUPLES</td>\n",
       "      <td>Mainstream</td>\n",
       "      <td>1</td>\n",
       "      <td>5</td>\n",
       "      <td>96</td>\n",
       "      <td>WW Original Stacked Chips</td>\n",
       "      <td>1</td>\n",
       "      <td>1.9</td>\n",
       "      <td>2018-11-02</td>\n",
       "      <td>160</td>\n",
       "    </tr>\n",
       "  </tbody>\n",
       "</table>\n",
       "</div>"
      ],
      "text/plain": [
       "   LYLTY_CARD_NBR              LIFESTAGE PREMIUM_CUSTOMER  STORE_NBR  TXN_ID  \\\n",
       "0            1000  YOUNG SINGLES/COUPLES          Premium          1       1   \n",
       "1            1002  YOUNG SINGLES/COUPLES       Mainstream          1       2   \n",
       "2            1003         YOUNG FAMILIES           Budget          1       3   \n",
       "3            1003         YOUNG FAMILIES           Budget          1       4   \n",
       "4            1004  OLDER SINGLES/COUPLES       Mainstream          1       5   \n",
       "\n",
       "   PROD_NBR                              PROD_NAME  PROD_QTY  TOT_SALES  \\\n",
       "0         5     Natural Chip        Compny SeaSalt         2        6.0   \n",
       "1        58      Red Rock Deli Chikn&Garlic Aioli          1        2.7   \n",
       "2        52  Grain Waves Sour    Cream&Chives 210G         1        3.6   \n",
       "3       106     Natural ChipCo      Hony Soy Chckn         1        3.0   \n",
       "4        96             WW Original Stacked Chips          1        1.9   \n",
       "\n",
       "        Date PRODUCT_SIZE  \n",
       "0 2018-10-17          175  \n",
       "1 2018-09-16          150  \n",
       "2 2019-03-07          210  \n",
       "3 2019-03-08          175  \n",
       "4 2018-11-02          160  "
      ]
     },
     "execution_count": 49,
     "metadata": {},
     "output_type": "execute_result"
    }
   ],
   "source": [
    "# Merging Purchase daten set with the Transaction data set.\n",
    "data=pd.merge(dfp,dft, on='LYLTY_CARD_NBR')\n",
    "data.head()"
   ]
  },
  {
   "cell_type": "code",
   "execution_count": 50,
   "id": "b176e3ee",
   "metadata": {
    "id": "b176e3ee",
    "outputId": "ecd17130-8a34-4e2d-940d-fe73a1c1266b"
   },
   "outputs": [
    {
     "data": {
      "text/plain": [
       "array([  5,  58,  52, 106,  96,  86,  49,  10,  20,  51,  59,  84,   1,\n",
       "         3,  93,  91,  74,  63,  97,  38,  19,   7,  53,  69,  16,  64,\n",
       "        75,  80,  12,  94, 105,  37,  40,  45, 112,  30, 111,   8,  44,\n",
       "        47, 114,  73,  43,  23,  36,  70,  15,  92,  67,  87,  95, 101,\n",
       "        60, 107,  83,  79,  17,  57,  90,   6,  66,  55,   9,  99,  68,\n",
       "        29, 102,  54,  50,  14,  61, 100, 113,  76,  48,  11,  27, 110,\n",
       "        35,  56,  41,  33,  31,  21,  62, 109,  24,  26,  46, 104,  65,\n",
       "        39,  18,  89,  77,   2,  13,  71,  32,  72,   4,  42,  25, 108,\n",
       "       103,  78,  22,  85,  88,  98,  81,  82,  28,  34], dtype=int64)"
      ]
     },
     "execution_count": 50,
     "metadata": {},
     "output_type": "execute_result"
    }
   ],
   "source": [
    "# unique values in Product number\n",
    "data['PROD_NBR'].unique()"
   ]
  },
  {
   "cell_type": "code",
   "execution_count": 51,
   "id": "600aff6e",
   "metadata": {
    "id": "600aff6e",
    "outputId": "7f4a8fa9-1c8b-4be3-c3f9-20baae3af730"
   },
   "outputs": [
    {
     "data": {
      "text/plain": [
       "array([  6.  ,   2.7 ,   3.6 ,   3.  ,   1.9 ,   2.8 ,   3.8 ,   5.7 ,\n",
       "         8.8 ,   5.1 ,   6.2 ,   2.9 ,   4.6 ,   3.9 ,   4.2 ,   4.4 ,\n",
       "         2.4 ,   3.1 ,   2.6 ,   2.1 ,   5.4 ,   2.3 ,   1.8 ,   3.3 ,\n",
       "         4.8 ,   5.8 ,   8.4 ,   1.7 ,   3.4 ,   7.4 ,   3.7 ,  10.8 ,\n",
       "         5.9 ,  11.8 ,   1.5 ,  10.2 ,   7.6 ,   6.6 ,   4.3 ,  11.4 ,\n",
       "         6.5 ,   7.8 ,   9.2 ,   5.2 ,   6.3 ,   7.2 ,   8.6 ,  10.4 ,\n",
       "        15.  ,  13.8 ,  13.  ,   3.25,  11.1 ,  17.7 ,   5.6 ,  22.  ,\n",
       "        18.4 ,  15.3 ,   9.9 ,  13.5 ,  13.2 ,  15.2 ,  17.6 ,  23.  ,\n",
       "        19.5 ,  12.  ,  11.6 ,  16.5 ,  18.5 ,  11.7 ,  22.8 ,   8.5 ,\n",
       "        14.8 ,  15.5 ,   9.  ,  12.6 ,  16.25,   9.6 ,  21.5 ,  17.1 ,\n",
       "        20.4 ,  14.5 ,  29.5 ,  10.5 ,  15.6 ,  19.  ,   6.8 ,  21.6 ,\n",
       "        16.2 ,   8.7 ,  27.  ,  25.5 ,   4.5 ,   9.5 ,  18.  ,   9.3 ,\n",
       "        23.6 ,  16.8 ,   9.75,  21.  ,  14.  ,   6.9 ,  14.4 ,   8.1 ,\n",
       "        11.5 ,  28.5 ,  12.4 ,  17.2 ,   7.5 ,  11.2 ,  12.9 , 650.  ])"
      ]
     },
     "execution_count": 51,
     "metadata": {},
     "output_type": "execute_result"
    }
   ],
   "source": [
    "# unique values in total sale column\n",
    "data['TOT_SALES'].unique()"
   ]
  },
  {
   "cell_type": "code",
   "execution_count": 52,
   "id": "563fdd6f",
   "metadata": {
    "id": "563fdd6f",
    "outputId": "383a936e-7a1a-4bd7-b715-92f2cc897636"
   },
   "outputs": [
    {
     "data": {
      "text/plain": [
       "(264834, 11)"
      ]
     },
     "execution_count": 52,
     "metadata": {},
     "output_type": "execute_result"
    }
   ],
   "source": [
    "data.shape"
   ]
  },
  {
   "cell_type": "code",
   "execution_count": 53,
   "id": "43159789",
   "metadata": {
    "id": "43159789",
    "outputId": "01d3e625-6f20-48e4-9617-7de11afcff26"
   },
   "outputs": [
    {
     "data": {
      "text/plain": [
       "PRODUCT_SIZE\n",
       "175    485425.4\n",
       "150    304288.5\n",
       "134    177655.5\n",
       "110    162765.4\n",
       "170    146673.0\n",
       "330    136794.3\n",
       "300    113330.6\n",
       "165    101360.6\n",
       "380     76719.6\n",
       "270     55425.4\n",
       "210     43048.8\n",
       "250     26096.7\n",
       "135     26090.4\n",
       "200     16007.5\n",
       "190     14412.9\n",
       "160     10647.6\n",
       "90       9676.4\n",
       "180      8568.4\n",
       "70       6852.0\n",
       "220      6831.0\n",
       "125      5733.0\n",
       "Name: TOT_SALES, dtype: float64"
      ]
     },
     "execution_count": 53,
     "metadata": {},
     "output_type": "execute_result"
    }
   ],
   "source": [
    "#sales with respect to package size\n",
    "package_sales=data.groupby(\"PRODUCT_SIZE\")[\"TOT_SALES\"].sum().sort_values(ascending=False)   \n",
    "package_sales"
   ]
  },
  {
   "cell_type": "code",
   "execution_count": 54,
   "id": "1733ab05",
   "metadata": {
    "id": "1733ab05",
    "outputId": "0a9783c9-7ed1-4e97-8344-ef04bb0335ca"
   },
   "outputs": [
    {
     "data": {
      "text/plain": [
       "<Figure size 432x288 with 0 Axes>"
      ]
     },
     "metadata": {},
     "output_type": "display_data"
    },
    {
     "data": {
      "image/png": "[encoded data removed]",
      "text/plain": [
       "<Figure size 720x432 with 1 Axes>"
      ]
     },
     "metadata": {
      "needs_background": "light"
     },
     "output_type": "display_data"
    }
   ],
   "source": [
    "# Visualizing sales with respect to size of packets\n",
    "plt.figure()\n",
    "fig, ax = plt.subplots(figsize=(10,6))\n",
    "package_sales.head(20).plot(kind='bar', ax=ax,color='yellow')\n",
    "plt.title('TOP 20 SALES WITH RESPECT TO PRODUCT SIZE')\n",
    "plt.xlabel('Package size')\n",
    "plt.ylabel('Total Sales')\n",
    "plt.show()"
   ]
  },
  {
   "cell_type": "markdown",
   "id": "1_5Zfo38beSG",
   "metadata": {
    "id": "1_5Zfo38beSG"
   },
   "source": [
    "# By Visualizing grap Packet of size 175 is highest sale following 150 after it"
   ]
  },
  {
   "cell_type": "code",
   "execution_count": 55,
   "id": "5294a72e",
   "metadata": {
    "id": "5294a72e",
    "outputId": "7073763a-a2f1-47ac-efdb-7493aa64b49b"
   },
   "outputs": [
    {
     "data": {
      "text/plain": [
       "PROD_NAME\n",
       "Dorito Corn Chp     Supreme             40352.0\n",
       "Smiths Crnkle Chip  Orgnl Big Bag       36367.6\n",
       "Smiths Crinkle Chips Salt & Vinegar     34804.2\n",
       "Kettle Mozzarella   Basil & Pesto       34457.4\n",
       "Smiths Crinkle      Original            34302.6\n",
       "Cheezels Cheese                         34296.9\n",
       "Doritos Cheese      Supreme             33390.6\n",
       "Kettle Sweet Chilli And Sour Cream      33031.8\n",
       "Kettle Original                         32740.2\n",
       "Kettle Sea Salt     And Vinegar         32589.0\n",
       "Kettle Honey Soy    Chicken             32578.2\n",
       "Kettle Chilli                           31271.4\n",
       "Old El Paso Salsa   Dip Chnky Tom Ht    30513.3\n",
       "Old El Paso Salsa   Dip Tomato Med      30237.9\n",
       "Old El Paso Salsa   Dip Tomato Mild     30033.9\n",
       "Kettle Tortilla ChpsHny&Jlpno Chili     29021.4\n",
       "Kettle Sensations   Camembert & Fig     28308.4\n",
       "Twisties Chicken                        27853.0\n",
       "Kettle Tortilla ChpsBtroot&Ricotta      27770.2\n",
       "Kettle Tortilla ChpsFeta&Garlic         27627.6\n",
       "Name: TOT_SALES, dtype: float64"
      ]
     },
     "execution_count": 55,
     "metadata": {},
     "output_type": "execute_result"
    }
   ],
   "source": [
    "# Checking Top 20 Sales by Product name with the groupby method\n",
    "sales_by_Productname=data.groupby('PROD_NAME')['TOT_SALES'].sum().sort_values(ascending=False)\n",
    "sales_by_Productname.head(20)"
   ]
  },
  {
   "cell_type": "code",
   "execution_count": 56,
   "id": "330ea9d4",
   "metadata": {
    "id": "330ea9d4",
    "outputId": "dac79626-3750-4f98-e002-f41c39f2e535",
    "scrolled": false
   },
   "outputs": [
    {
     "data": {
      "text/html": [
       "<div>\n",
       "<style scoped>\n",
       "    .dataframe tbody tr th:only-of-type {\n",
       "        vertical-align: middle;\n",
       "    }\n",
       "\n",
       "    .dataframe tbody tr th {\n",
       "        vertical-align: top;\n",
       "    }\n",
       "\n",
       "    .dataframe thead th {\n",
       "        text-align: right;\n",
       "    }\n",
       "</style>\n",
       "<table border=\"1\" class=\"dataframe\">\n",
       "  <thead>\n",
       "    <tr style=\"text-align: right;\">\n",
       "      <th></th>\n",
       "      <th>PROD_NAME</th>\n",
       "      <th>TOT_SALES</th>\n",
       "    </tr>\n",
       "  </thead>\n",
       "  <tbody>\n",
       "    <tr>\n",
       "      <th>0</th>\n",
       "      <td>Dorito Corn Chp     Supreme</td>\n",
       "      <td>40352.0</td>\n",
       "    </tr>\n",
       "    <tr>\n",
       "      <th>1</th>\n",
       "      <td>Smiths Crnkle Chip  Orgnl Big Bag</td>\n",
       "      <td>36367.6</td>\n",
       "    </tr>\n",
       "    <tr>\n",
       "      <th>2</th>\n",
       "      <td>Smiths Crinkle Chips Salt &amp; Vinegar</td>\n",
       "      <td>34804.2</td>\n",
       "    </tr>\n",
       "    <tr>\n",
       "      <th>3</th>\n",
       "      <td>Kettle Mozzarella   Basil &amp; Pesto</td>\n",
       "      <td>34457.4</td>\n",
       "    </tr>\n",
       "    <tr>\n",
       "      <th>4</th>\n",
       "      <td>Smiths Crinkle      Original</td>\n",
       "      <td>34302.6</td>\n",
       "    </tr>\n",
       "    <tr>\n",
       "      <th>5</th>\n",
       "      <td>Cheezels Cheese</td>\n",
       "      <td>34296.9</td>\n",
       "    </tr>\n",
       "    <tr>\n",
       "      <th>6</th>\n",
       "      <td>Doritos Cheese      Supreme</td>\n",
       "      <td>33390.6</td>\n",
       "    </tr>\n",
       "    <tr>\n",
       "      <th>7</th>\n",
       "      <td>Kettle Sweet Chilli And Sour Cream</td>\n",
       "      <td>33031.8</td>\n",
       "    </tr>\n",
       "    <tr>\n",
       "      <th>8</th>\n",
       "      <td>Kettle Original</td>\n",
       "      <td>32740.2</td>\n",
       "    </tr>\n",
       "    <tr>\n",
       "      <th>9</th>\n",
       "      <td>Kettle Sea Salt     And Vinegar</td>\n",
       "      <td>32589.0</td>\n",
       "    </tr>\n",
       "    <tr>\n",
       "      <th>10</th>\n",
       "      <td>Kettle Honey Soy    Chicken</td>\n",
       "      <td>32578.2</td>\n",
       "    </tr>\n",
       "    <tr>\n",
       "      <th>11</th>\n",
       "      <td>Kettle Chilli</td>\n",
       "      <td>31271.4</td>\n",
       "    </tr>\n",
       "    <tr>\n",
       "      <th>12</th>\n",
       "      <td>Old El Paso Salsa   Dip Chnky Tom Ht</td>\n",
       "      <td>30513.3</td>\n",
       "    </tr>\n",
       "    <tr>\n",
       "      <th>13</th>\n",
       "      <td>Old El Paso Salsa   Dip Tomato Med</td>\n",
       "      <td>30237.9</td>\n",
       "    </tr>\n",
       "    <tr>\n",
       "      <th>14</th>\n",
       "      <td>Old El Paso Salsa   Dip Tomato Mild</td>\n",
       "      <td>30033.9</td>\n",
       "    </tr>\n",
       "    <tr>\n",
       "      <th>15</th>\n",
       "      <td>Kettle Tortilla ChpsHny&amp;Jlpno Chili</td>\n",
       "      <td>29021.4</td>\n",
       "    </tr>\n",
       "    <tr>\n",
       "      <th>16</th>\n",
       "      <td>Kettle Sensations   Camembert &amp; Fig</td>\n",
       "      <td>28308.4</td>\n",
       "    </tr>\n",
       "    <tr>\n",
       "      <th>17</th>\n",
       "      <td>Twisties Chicken</td>\n",
       "      <td>27853.0</td>\n",
       "    </tr>\n",
       "    <tr>\n",
       "      <th>18</th>\n",
       "      <td>Kettle Tortilla ChpsBtroot&amp;Ricotta</td>\n",
       "      <td>27770.2</td>\n",
       "    </tr>\n",
       "    <tr>\n",
       "      <th>19</th>\n",
       "      <td>Kettle Tortilla ChpsFeta&amp;Garlic</td>\n",
       "      <td>27627.6</td>\n",
       "    </tr>\n",
       "  </tbody>\n",
       "</table>\n",
       "</div>"
      ],
      "text/plain": [
       "                               PROD_NAME  TOT_SALES\n",
       "0           Dorito Corn Chp     Supreme     40352.0\n",
       "1     Smiths Crnkle Chip  Orgnl Big Bag     36367.6\n",
       "2   Smiths Crinkle Chips Salt & Vinegar     34804.2\n",
       "3     Kettle Mozzarella   Basil & Pesto     34457.4\n",
       "4          Smiths Crinkle      Original     34302.6\n",
       "5                       Cheezels Cheese     34296.9\n",
       "6           Doritos Cheese      Supreme     33390.6\n",
       "7    Kettle Sweet Chilli And Sour Cream     33031.8\n",
       "8                       Kettle Original     32740.2\n",
       "9       Kettle Sea Salt     And Vinegar     32589.0\n",
       "10          Kettle Honey Soy    Chicken     32578.2\n",
       "11                        Kettle Chilli     31271.4\n",
       "12  Old El Paso Salsa   Dip Chnky Tom Ht    30513.3\n",
       "13   Old El Paso Salsa   Dip Tomato Med     30237.9\n",
       "14  Old El Paso Salsa   Dip Tomato Mild     30033.9\n",
       "15  Kettle Tortilla ChpsHny&Jlpno Chili     29021.4\n",
       "16  Kettle Sensations   Camembert & Fig     28308.4\n",
       "17                      Twisties Chicken    27853.0\n",
       "18   Kettle Tortilla ChpsBtroot&Ricotta     27770.2\n",
       "19      Kettle Tortilla ChpsFeta&Garlic     27627.6"
      ]
     },
     "execution_count": 56,
     "metadata": {},
     "output_type": "execute_result"
    }
   ],
   "source": [
    "# using group by method to find out sale by customer\n",
    "sales_by_customer = data.groupby('PROD_NAME')['TOT_SALES'].sum().reset_index().sort_values(by='TOT_SALES',ascending=False).reset_index(drop=True)\n",
    "sales_by_customer.head(20)"
   ]
  },
  {
   "cell_type": "code",
   "execution_count": 57,
   "id": "549dca9c",
   "metadata": {
    "id": "549dca9c",
    "outputId": "754e3b68-810e-4921-e7f1-7d32d7d8c370"
   },
   "outputs": [
    {
     "data": {
      "text/plain": [
       "<Figure size 432x288 with 0 Axes>"
      ]
     },
     "metadata": {},
     "output_type": "display_data"
    },
    {
     "data": {
      "image/png": "[encoded data removed]",
      "text/plain": [
       "<Figure size 864x432 with 1 Axes>"
      ]
     },
     "metadata": {
      "needs_background": "light"
     },
     "output_type": "display_data"
    }
   ],
   "source": [
    "# Visualizing the Top 20 sales by Product name\n",
    "plt.figure()\n",
    "fig, ax = plt.subplots(figsize=(12,6))\n",
    "sales_by_customer.head(20).plot(kind='bar', ax=ax,color='brown')\n",
    "plt.title('TOP 20 SALES WITH RESPECT TO PRODUCT NAME')\n",
    "plt.xlabel('Product Name')\n",
    "plt.ylabel('Total Sales')\n",
    "plt.show()"
   ]
  },
  {
   "cell_type": "code",
   "execution_count": 84,
   "id": "2e3f9c05",
   "metadata": {},
   "outputs": [
    {
     "data": {
      "text/html": [
       "<div>\n",
       "<style scoped>\n",
       "    .dataframe tbody tr th:only-of-type {\n",
       "        vertical-align: middle;\n",
       "    }\n",
       "\n",
       "    .dataframe tbody tr th {\n",
       "        vertical-align: top;\n",
       "    }\n",
       "\n",
       "    .dataframe thead th {\n",
       "        text-align: right;\n",
       "    }\n",
       "</style>\n",
       "<table border=\"1\" class=\"dataframe\">\n",
       "  <thead>\n",
       "    <tr style=\"text-align: right;\">\n",
       "      <th></th>\n",
       "      <th>PROD_NAME</th>\n",
       "      <th>TOT_SALES</th>\n",
       "    </tr>\n",
       "  </thead>\n",
       "  <tbody>\n",
       "    <tr>\n",
       "      <th>0</th>\n",
       "      <td>Woolworths Medium   Salsa</td>\n",
       "      <td>4050.0</td>\n",
       "    </tr>\n",
       "    <tr>\n",
       "      <th>1</th>\n",
       "      <td>Woolworths Mild     Salsa</td>\n",
       "      <td>4234.5</td>\n",
       "    </tr>\n",
       "    <tr>\n",
       "      <th>2</th>\n",
       "      <td>WW Crinkle Cut      Original</td>\n",
       "      <td>4532.2</td>\n",
       "    </tr>\n",
       "    <tr>\n",
       "      <th>3</th>\n",
       "      <td>Sunbites Whlegrn    Crisps Frch/Onin</td>\n",
       "      <td>4600.2</td>\n",
       "    </tr>\n",
       "    <tr>\n",
       "      <th>4</th>\n",
       "      <td>WW Crinkle Cut      Chicken</td>\n",
       "      <td>4702.2</td>\n",
       "    </tr>\n",
       "    <tr>\n",
       "      <th>5</th>\n",
       "      <td>Snbts Whlgrn Crisps Cheddr&amp;Mstrd</td>\n",
       "      <td>5076.2</td>\n",
       "    </tr>\n",
       "    <tr>\n",
       "      <th>6</th>\n",
       "      <td>Woolworths Cheese   Rings</td>\n",
       "      <td>5169.6</td>\n",
       "    </tr>\n",
       "    <tr>\n",
       "      <th>7</th>\n",
       "      <td>WW D/Style Chip     Sea Salt</td>\n",
       "      <td>5249.7</td>\n",
       "    </tr>\n",
       "    <tr>\n",
       "      <th>8</th>\n",
       "      <td>WW Sour Cream &amp;OnionStacked Chips</td>\n",
       "      <td>5323.8</td>\n",
       "    </tr>\n",
       "    <tr>\n",
       "      <th>9</th>\n",
       "      <td>WW Original Stacked Chips</td>\n",
       "      <td>5323.8</td>\n",
       "    </tr>\n",
       "    <tr>\n",
       "      <th>10</th>\n",
       "      <td>WW Original Corn    Chips</td>\n",
       "      <td>5367.5</td>\n",
       "    </tr>\n",
       "    <tr>\n",
       "      <th>11</th>\n",
       "      <td>WW Supreme Cheese   Corn Chips</td>\n",
       "      <td>5390.3</td>\n",
       "    </tr>\n",
       "    <tr>\n",
       "      <th>12</th>\n",
       "      <td>Cheezels Cheese Box</td>\n",
       "      <td>5733.0</td>\n",
       "    </tr>\n",
       "    <tr>\n",
       "      <th>13</th>\n",
       "      <td>CCs Nacho Cheese</td>\n",
       "      <td>5961.9</td>\n",
       "    </tr>\n",
       "    <tr>\n",
       "      <th>14</th>\n",
       "      <td>CCs Original</td>\n",
       "      <td>6048.0</td>\n",
       "    </tr>\n",
       "    <tr>\n",
       "      <th>15</th>\n",
       "      <td>CCs Tasty Cheese</td>\n",
       "      <td>6069.0</td>\n",
       "    </tr>\n",
       "    <tr>\n",
       "      <th>16</th>\n",
       "      <td>Burger Rings</td>\n",
       "      <td>6831.0</td>\n",
       "    </tr>\n",
       "    <tr>\n",
       "      <th>17</th>\n",
       "      <td>Infuzions Mango     Chutny Papadums</td>\n",
       "      <td>6852.0</td>\n",
       "    </tr>\n",
       "    <tr>\n",
       "      <th>18</th>\n",
       "      <td>Smiths Crinkle Cut  French OnionDip</td>\n",
       "      <td>7046.0</td>\n",
       "    </tr>\n",
       "    <tr>\n",
       "      <th>19</th>\n",
       "      <td>Doritos Salsa       Medium</td>\n",
       "      <td>7111.0</td>\n",
       "    </tr>\n",
       "  </tbody>\n",
       "</table>\n",
       "</div>"
      ],
      "text/plain": [
       "                                PROD_NAME  TOT_SALES\n",
       "0              Woolworths Medium   Salsa      4050.0\n",
       "1              Woolworths Mild     Salsa      4234.5\n",
       "2           WW Crinkle Cut      Original      4532.2\n",
       "3   Sunbites Whlegrn    Crisps Frch/Onin      4600.2\n",
       "4            WW Crinkle Cut      Chicken      4702.2\n",
       "5       Snbts Whlgrn Crisps Cheddr&Mstrd      5076.2\n",
       "6              Woolworths Cheese   Rings      5169.6\n",
       "7           WW D/Style Chip     Sea Salt      5249.7\n",
       "8      WW Sour Cream &OnionStacked Chips      5323.8\n",
       "9              WW Original Stacked Chips      5323.8\n",
       "10             WW Original Corn    Chips      5367.5\n",
       "11        WW Supreme Cheese   Corn Chips      5390.3\n",
       "12                   Cheezels Cheese Box      5733.0\n",
       "13                   CCs Nacho Cheese         5961.9\n",
       "14                          CCs Original      6048.0\n",
       "15                   CCs Tasty Cheese         6069.0\n",
       "16                          Burger Rings      6831.0\n",
       "17   Infuzions Mango     Chutny Papadums      6852.0\n",
       "18   Smiths Crinkle Cut  French OnionDip      7046.0\n",
       "19            Doritos Salsa       Medium      7111.0"
      ]
     },
     "execution_count": 84,
     "metadata": {},
     "output_type": "execute_result"
    }
   ],
   "source": [
    "# using group by method to find out sale by customer\n",
    "Lowest_sales_by_customer = data.groupby('PROD_NAME')['TOT_SALES'].sum().reset_index().sort_values(by='TOT_SALES',ascending=True).reset_index(drop=True)\n",
    "Lowest_sales_by_customer.head(20)"
   ]
  },
  {
   "cell_type": "code",
   "execution_count": 88,
   "id": "1b73b9af",
   "metadata": {},
   "outputs": [
    {
     "data": {
      "text/plain": [
       "<Figure size 432x288 with 0 Axes>"
      ]
     },
     "metadata": {},
     "output_type": "display_data"
    },
    {
     "data": {
      "image/png": "[encoded data removed]",
      "text/plain": [
       "<Figure size 1080x432 with 1 Axes>"
      ]
     },
     "metadata": {
      "needs_background": "light"
     },
     "output_type": "display_data"
    }
   ],
   "source": [
    "# Visualizing the Top Lowest 20 sales by Product name\n",
    "plt.figure()\n",
    "plt.figure(figsize=[15,6])\n",
    "sns.barplot(x='PROD_NAME',y='TOT_SALES', data=Lowest_sales_by_customer.head(20))\n",
    "plt.title('TOTAL SALES BY PRODUCT SIZE')\n",
    "plt.xlabel('PRODUCT NAME')\n",
    "plt.ylabel('TOT SALES')\n",
    "plt.xticks(rotation=90)\n",
    "plt.show()"
   ]
  },
  {
   "cell_type": "markdown",
   "id": "K7jXlK80cnDU",
   "metadata": {
    "id": "K7jXlK80cnDU"
   },
   "source": [
    "# Dorrito corn has the highest sale following smith chunks chips"
   ]
  },
  {
   "cell_type": "code",
   "execution_count": 58,
   "id": "3670c2cb",
   "metadata": {
    "id": "3670c2cb",
    "outputId": "37555e9b-fb52-4820-9ccc-2ccabf3a87e9"
   },
   "outputs": [
    {
     "data": {
      "text/plain": [
       "0         2018\n",
       "1         2018\n",
       "2         2019\n",
       "3         2019\n",
       "4         2018\n",
       "          ... \n",
       "264829    2018\n",
       "264830    2018\n",
       "264831    2018\n",
       "264832    2018\n",
       "264833    2019\n",
       "Name: YEAR, Length: 264834, dtype: int64"
      ]
     },
     "execution_count": 58,
     "metadata": {},
     "output_type": "execute_result"
    }
   ],
   "source": [
    "#checking total number of years\n",
    "data['YEAR']=data['Date'].dt.year\n",
    "data['YEAR']"
   ]
  },
  {
   "cell_type": "code",
   "execution_count": 59,
   "id": "af3f93af",
   "metadata": {
    "id": "af3f93af",
    "outputId": "0a3ec6e0-8655-424d-edcd-2a601c56081b"
   },
   "outputs": [
    {
     "data": {
      "text/plain": [
       "YEAR\n",
       "2019    957323.85\n",
       "2018    977079.15\n",
       "Name: TOT_SALES, dtype: float64"
      ]
     },
     "execution_count": 59,
     "metadata": {},
     "output_type": "execute_result"
    }
   ],
   "source": [
    "# Sales by year using groupby\n",
    "Sales_by_year=data.groupby(data['YEAR'])['TOT_SALES'].sum().sort_values()\n",
    "Sales_by_year"
   ]
  },
  {
   "cell_type": "markdown",
   "id": "myA403dmdOcD",
   "metadata": {
    "id": "myA403dmdOcD"
   },
   "source": [
    "# Total Sales by the year"
   ]
  },
  {
   "cell_type": "code",
   "execution_count": 60,
   "id": "e0f9e663",
   "metadata": {
    "id": "e0f9e663",
    "outputId": "ce937f47-3f58-494b-e631-44938fd4906d"
   },
   "outputs": [
    {
     "data": {
      "text/plain": [
       "Text(0.5, 1.0, 'TOTAL SALES BY YEAR')"
      ]
     },
     "execution_count": 60,
     "metadata": {},
     "output_type": "execute_result"
    },
    {
     "data": {
      "image/png": "[encoded data removed]",
      "text/plain": [
       "<Figure size 576x576 with 1 Axes>"
      ]
     },
     "metadata": {},
     "output_type": "display_data"
    }
   ],
   "source": [
    "# plotting pie plot sales by year\n",
    "plt.figure(figsize=[8,8])\n",
    "Sales_by_year.plot(kind='pie',autopct='%1.2f%%',explode=(0,0.05))\n",
    "plt.title('TOTAL SALES BY YEAR')"
   ]
  },
  {
   "cell_type": "markdown",
   "id": "Ki-BduNxdbQo",
   "metadata": {
    "id": "Ki-BduNxdbQo"
   },
   "source": [
    "# Almost has equal sale in both the year i.e 2018 and 2019"
   ]
  },
  {
   "cell_type": "code",
   "execution_count": 61,
   "id": "acb1a74d",
   "metadata": {
    "id": "acb1a74d",
    "outputId": "acf51db5-2150-43c1-c4a0-869689741d46"
   },
   "outputs": [
    {
     "data": {
      "text/html": [
       "<div>\n",
       "<style scoped>\n",
       "    .dataframe tbody tr th:only-of-type {\n",
       "        vertical-align: middle;\n",
       "    }\n",
       "\n",
       "    .dataframe tbody tr th {\n",
       "        vertical-align: top;\n",
       "    }\n",
       "\n",
       "    .dataframe thead th {\n",
       "        text-align: right;\n",
       "    }\n",
       "</style>\n",
       "<table border=\"1\" class=\"dataframe\">\n",
       "  <thead>\n",
       "    <tr style=\"text-align: right;\">\n",
       "      <th></th>\n",
       "      <th>PREMIUM_CUSTOMER</th>\n",
       "      <th>PRODUCT_SIZE</th>\n",
       "      <th>count</th>\n",
       "    </tr>\n",
       "  </thead>\n",
       "  <tbody>\n",
       "    <tr>\n",
       "      <th>29</th>\n",
       "      <td>Mainstream</td>\n",
       "      <td>175</td>\n",
       "      <td>25150</td>\n",
       "    </tr>\n",
       "    <tr>\n",
       "      <th>8</th>\n",
       "      <td>Budget</td>\n",
       "      <td>175</td>\n",
       "      <td>23589</td>\n",
       "    </tr>\n",
       "    <tr>\n",
       "      <th>50</th>\n",
       "      <td>Premium</td>\n",
       "      <td>175</td>\n",
       "      <td>17649</td>\n",
       "    </tr>\n",
       "    <tr>\n",
       "      <th>25</th>\n",
       "      <td>Mainstream</td>\n",
       "      <td>150</td>\n",
       "      <td>16573</td>\n",
       "    </tr>\n",
       "    <tr>\n",
       "      <th>4</th>\n",
       "      <td>Budget</td>\n",
       "      <td>150</td>\n",
       "      <td>15226</td>\n",
       "    </tr>\n",
       "    <tr>\n",
       "      <th>...</th>\n",
       "      <td>...</td>\n",
       "      <td>...</td>\n",
       "      <td>...</td>\n",
       "    </tr>\n",
       "    <tr>\n",
       "      <th>22</th>\n",
       "      <td>Mainstream</td>\n",
       "      <td>125</td>\n",
       "      <td>505</td>\n",
       "    </tr>\n",
       "    <tr>\n",
       "      <th>55</th>\n",
       "      <td>Premium</td>\n",
       "      <td>220</td>\n",
       "      <td>437</td>\n",
       "    </tr>\n",
       "    <tr>\n",
       "      <th>61</th>\n",
       "      <td>Premium</td>\n",
       "      <td>70</td>\n",
       "      <td>428</td>\n",
       "    </tr>\n",
       "    <tr>\n",
       "      <th>43</th>\n",
       "      <td>Premium</td>\n",
       "      <td>125</td>\n",
       "      <td>407</td>\n",
       "    </tr>\n",
       "    <tr>\n",
       "      <th>51</th>\n",
       "      <td>Premium</td>\n",
       "      <td>180</td>\n",
       "      <td>405</td>\n",
       "    </tr>\n",
       "  </tbody>\n",
       "</table>\n",
       "<p>63 rows × 3 columns</p>\n",
       "</div>"
      ],
      "text/plain": [
       "   PREMIUM_CUSTOMER PRODUCT_SIZE  count\n",
       "29       Mainstream          175  25150\n",
       "8            Budget          175  23589\n",
       "50          Premium          175  17649\n",
       "25       Mainstream          150  16573\n",
       "4            Budget          150  15226\n",
       "..              ...          ...    ...\n",
       "22       Mainstream          125    505\n",
       "55          Premium          220    437\n",
       "61          Premium           70    428\n",
       "43          Premium          125    407\n",
       "51          Premium          180    405\n",
       "\n",
       "[63 rows x 3 columns]"
      ]
     },
     "execution_count": 61,
     "metadata": {},
     "output_type": "execute_result"
    }
   ],
   "source": [
    "# checking relation with packet size with respect to customer\n",
    "packagesize_by_customer=data.groupby(['PREMIUM_CUSTOMER', 'PRODUCT_SIZE']).size().reset_index(name='count')\n",
    "packagesize_by_customer = packagesize_by_customer.sort_values(by='count', ascending=False)\n",
    "packagesize_by_customer"
   ]
  },
  {
   "cell_type": "code",
   "execution_count": 79,
   "id": "02753471",
   "metadata": {},
   "outputs": [
    {
     "data": {
      "text/html": [
       "<div>\n",
       "<style scoped>\n",
       "    .dataframe tbody tr th:only-of-type {\n",
       "        vertical-align: middle;\n",
       "    }\n",
       "\n",
       "    .dataframe tbody tr th {\n",
       "        vertical-align: top;\n",
       "    }\n",
       "\n",
       "    .dataframe thead th {\n",
       "        text-align: right;\n",
       "    }\n",
       "</style>\n",
       "<table border=\"1\" class=\"dataframe\">\n",
       "  <thead>\n",
       "    <tr style=\"text-align: right;\">\n",
       "      <th></th>\n",
       "      <th>PREMIUM_CUSTOMER</th>\n",
       "      <th>PRODUCT_SIZE</th>\n",
       "      <th>count</th>\n",
       "    </tr>\n",
       "  </thead>\n",
       "  <tbody>\n",
       "    <tr>\n",
       "      <th>51</th>\n",
       "      <td>Premium</td>\n",
       "      <td>180</td>\n",
       "      <td>405</td>\n",
       "    </tr>\n",
       "    <tr>\n",
       "      <th>43</th>\n",
       "      <td>Premium</td>\n",
       "      <td>125</td>\n",
       "      <td>407</td>\n",
       "    </tr>\n",
       "    <tr>\n",
       "      <th>61</th>\n",
       "      <td>Premium</td>\n",
       "      <td>70</td>\n",
       "      <td>428</td>\n",
       "    </tr>\n",
       "    <tr>\n",
       "      <th>55</th>\n",
       "      <td>Premium</td>\n",
       "      <td>220</td>\n",
       "      <td>437</td>\n",
       "    </tr>\n",
       "    <tr>\n",
       "      <th>22</th>\n",
       "      <td>Mainstream</td>\n",
       "      <td>125</td>\n",
       "      <td>505</td>\n",
       "    </tr>\n",
       "    <tr>\n",
       "      <th>30</th>\n",
       "      <td>Mainstream</td>\n",
       "      <td>180</td>\n",
       "      <td>521</td>\n",
       "    </tr>\n",
       "    <tr>\n",
       "      <th>40</th>\n",
       "      <td>Mainstream</td>\n",
       "      <td>70</td>\n",
       "      <td>523</td>\n",
       "    </tr>\n",
       "    <tr>\n",
       "      <th>1</th>\n",
       "      <td>Budget</td>\n",
       "      <td>125</td>\n",
       "      <td>542</td>\n",
       "    </tr>\n",
       "    <tr>\n",
       "      <th>9</th>\n",
       "      <td>Budget</td>\n",
       "      <td>180</td>\n",
       "      <td>542</td>\n",
       "    </tr>\n",
       "    <tr>\n",
       "      <th>34</th>\n",
       "      <td>Mainstream</td>\n",
       "      <td>220</td>\n",
       "      <td>549</td>\n",
       "    </tr>\n",
       "  </tbody>\n",
       "</table>\n",
       "</div>"
      ],
      "text/plain": [
       "   PREMIUM_CUSTOMER PRODUCT_SIZE  count\n",
       "51          Premium          180    405\n",
       "43          Premium          125    407\n",
       "61          Premium           70    428\n",
       "55          Premium          220    437\n",
       "22       Mainstream          125    505\n",
       "30       Mainstream          180    521\n",
       "40       Mainstream           70    523\n",
       "1            Budget          125    542\n",
       "9            Budget          180    542\n",
       "34       Mainstream          220    549"
      ]
     },
     "execution_count": 79,
     "metadata": {},
     "output_type": "execute_result"
    }
   ],
   "source": [
    "# checking relation with lowest packet size count with respect to customer\n",
    "packagesize_by_customer=data.groupby(['PREMIUM_CUSTOMER', 'PRODUCT_SIZE']).size().reset_index(name='count')\n",
    "packagesize_by_customer = packagesize_by_customer.sort_values(by='count', ascending=True)\n",
    "packagesize_by_customer.head(10)"
   ]
  },
  {
   "cell_type": "code",
   "execution_count": 62,
   "id": "de9671e5",
   "metadata": {
    "id": "de9671e5",
    "outputId": "7ddf6829-e050-4463-887f-9d20ac17cf8f"
   },
   "outputs": [
    {
     "data": {
      "text/plain": [
       "LIFESTAGE\n",
       "OLDER SINGLES/COUPLES     402310.55\n",
       "RETIREES                  366422.30\n",
       "OLDER FAMILIES            353710.00\n",
       "YOUNG FAMILIES            316110.50\n",
       "YOUNG SINGLES/COUPLES     260362.90\n",
       "MIDAGE SINGLES/COUPLES    185053.30\n",
       "NEW FAMILIES               50433.45\n",
       "Name: TOT_SALES, dtype: float64"
      ]
     },
     "execution_count": 62,
     "metadata": {},
     "output_type": "execute_result"
    }
   ],
   "source": [
    "# checking Total sale with respect to customers lifestage\n",
    "sales_by_lifestage=data.groupby('LIFESTAGE')['TOT_SALES'].sum().sort_values(ascending=False)\n",
    "sales_by_lifestage"
   ]
  },
  {
   "cell_type": "code",
   "execution_count": 63,
   "id": "b7305236",
   "metadata": {
    "id": "b7305236",
    "outputId": "9b11c907-2bb4-44d7-95aa-2f8facf775c4"
   },
   "outputs": [
    {
     "data": {
      "text/plain": [
       "Text(0, 0.5, 'Total Sales')"
      ]
     },
     "execution_count": 63,
     "metadata": {},
     "output_type": "execute_result"
    },
    {
     "data": {
      "image/png": "[encoded data removed]",
      "text/plain": [
       "<Figure size 576x432 with 1 Axes>"
      ]
     },
     "metadata": {
      "needs_background": "light"
     },
     "output_type": "display_data"
    }
   ],
   "source": [
    "# Visualizing the Sales with respect to customers lifestage\n",
    "plt.figure(figsize=[8,6])\n",
    "colors=['red','brown','yellow','purple','blue','orange','green']\n",
    "sales_by_lifestage.plot(kind='bar',color=colors)\n",
    "plt.title('SALES BY LIFESTAGE OF CUSTOMER')\n",
    "plt.xlabel('life stage')\n",
    "plt.ylabel('Total Sales')"
   ]
  },
  {
   "cell_type": "markdown",
   "id": "oXw_-8alegLm",
   "metadata": {
    "id": "oXw_-8alegLm"
   },
   "source": [
    "#"
   ]
  },
  {
   "cell_type": "code",
   "execution_count": 64,
   "id": "7d934c3a",
   "metadata": {
    "id": "7d934c3a",
    "outputId": "7d1ba66c-ab1c-4a1e-9c84-b2c08c463e9c"
   },
   "outputs": [
    {
     "data": {
      "text/html": [
       "<div>\n",
       "<style scoped>\n",
       "    .dataframe tbody tr th:only-of-type {\n",
       "        vertical-align: middle;\n",
       "    }\n",
       "\n",
       "    .dataframe tbody tr th {\n",
       "        vertical-align: top;\n",
       "    }\n",
       "\n",
       "    .dataframe thead th {\n",
       "        text-align: right;\n",
       "    }\n",
       "</style>\n",
       "<table border=\"1\" class=\"dataframe\">\n",
       "  <thead>\n",
       "    <tr style=\"text-align: right;\">\n",
       "      <th></th>\n",
       "      <th>LIFESTAGE</th>\n",
       "      <th>count</th>\n",
       "    </tr>\n",
       "  </thead>\n",
       "  <tbody>\n",
       "    <tr>\n",
       "      <th>0</th>\n",
       "      <td>OLDER SINGLES/COUPLES</td>\n",
       "      <td>54462</td>\n",
       "    </tr>\n",
       "    <tr>\n",
       "      <th>1</th>\n",
       "      <td>RETIREES</td>\n",
       "      <td>49756</td>\n",
       "    </tr>\n",
       "    <tr>\n",
       "      <th>2</th>\n",
       "      <td>OLDER FAMILIES</td>\n",
       "      <td>48589</td>\n",
       "    </tr>\n",
       "    <tr>\n",
       "      <th>3</th>\n",
       "      <td>YOUNG FAMILIES</td>\n",
       "      <td>43586</td>\n",
       "    </tr>\n",
       "    <tr>\n",
       "      <th>4</th>\n",
       "      <td>YOUNG SINGLES/COUPLES</td>\n",
       "      <td>36372</td>\n",
       "    </tr>\n",
       "    <tr>\n",
       "      <th>5</th>\n",
       "      <td>MIDAGE SINGLES/COUPLES</td>\n",
       "      <td>25150</td>\n",
       "    </tr>\n",
       "    <tr>\n",
       "      <th>6</th>\n",
       "      <td>NEW FAMILIES</td>\n",
       "      <td>6919</td>\n",
       "    </tr>\n",
       "  </tbody>\n",
       "</table>\n",
       "</div>"
      ],
      "text/plain": [
       "                LIFESTAGE  count\n",
       "0   OLDER SINGLES/COUPLES  54462\n",
       "1                RETIREES  49756\n",
       "2          OLDER FAMILIES  48589\n",
       "3          YOUNG FAMILIES  43586\n",
       "4   YOUNG SINGLES/COUPLES  36372\n",
       "5  MIDAGE SINGLES/COUPLES  25150\n",
       "6            NEW FAMILIES   6919"
      ]
     },
     "execution_count": 64,
     "metadata": {},
     "output_type": "execute_result"
    }
   ],
   "source": [
    "# checking count of customers lifestage with respect to Packet size\n",
    "lifestage_product_size=data.groupby('LIFESTAGE')['PRODUCT_SIZE'].size().reset_index(name='count')\n",
    "lifestage_product_size=lifestage_product_size.sort_values(by='count', ascending=False).reset_index(drop=True)\n",
    "lifestage_product_size"
   ]
  },
  {
   "cell_type": "code",
   "execution_count": 90,
   "id": "6905ebb7",
   "metadata": {
    "id": "6905ebb7",
    "outputId": "00f988d0-24ca-4613-9c2a-e3714254fc5c"
   },
   "outputs": [
    {
     "data": {
      "text/plain": [
       "Text(0, 0.5, 'Product Size')"
      ]
     },
     "execution_count": 90,
     "metadata": {},
     "output_type": "execute_result"
    },
    {
     "data": {
      "text/plain": [
       "<Figure size 720x432 with 0 Axes>"
      ]
     },
     "metadata": {},
     "output_type": "display_data"
    },
    {
     "data": {
      "image/png": "[encoded data removed]",
      "text/plain": [
       "<Figure size 432x288 with 1 Axes>"
      ]
     },
     "metadata": {
      "needs_background": "light"
     },
     "output_type": "display_data"
    }
   ],
   "source": [
    "# plotting the count of customers lifestage with respect to Packet size\n",
    "plt.figure(figsize=[10,6])\n",
    "lifestage_product_size.plot(kind='bar')\n",
    "plt.title(' lifestage with respect to Productsize')\n",
    "plt.xlabel('life stage')\n",
    "plt.ylabel('Product Size')"
   ]
  },
  {
   "cell_type": "code",
   "execution_count": 66,
   "id": "6fe2da51",
   "metadata": {
    "id": "6fe2da51",
    "outputId": "5d9753a1-bd42-4dc7-94b9-e7db8b8e6676",
    "scrolled": true
   },
   "outputs": [
    {
     "data": {
      "text/html": [
       "<div>\n",
       "<style scoped>\n",
       "    .dataframe tbody tr th:only-of-type {\n",
       "        vertical-align: middle;\n",
       "    }\n",
       "\n",
       "    .dataframe tbody tr th {\n",
       "        vertical-align: top;\n",
       "    }\n",
       "\n",
       "    .dataframe thead th {\n",
       "        text-align: right;\n",
       "    }\n",
       "</style>\n",
       "<table border=\"1\" class=\"dataframe\">\n",
       "  <thead>\n",
       "    <tr style=\"text-align: right;\">\n",
       "      <th></th>\n",
       "      <th>PRODUCT_SIZE</th>\n",
       "      <th>TOT_SALES</th>\n",
       "    </tr>\n",
       "  </thead>\n",
       "  <tbody>\n",
       "    <tr>\n",
       "      <th>0</th>\n",
       "      <td>175</td>\n",
       "      <td>485425.4</td>\n",
       "    </tr>\n",
       "    <tr>\n",
       "      <th>1</th>\n",
       "      <td>150</td>\n",
       "      <td>304288.5</td>\n",
       "    </tr>\n",
       "    <tr>\n",
       "      <th>2</th>\n",
       "      <td>134</td>\n",
       "      <td>177655.5</td>\n",
       "    </tr>\n",
       "    <tr>\n",
       "      <th>3</th>\n",
       "      <td>110</td>\n",
       "      <td>162765.4</td>\n",
       "    </tr>\n",
       "    <tr>\n",
       "      <th>4</th>\n",
       "      <td>170</td>\n",
       "      <td>146673.0</td>\n",
       "    </tr>\n",
       "    <tr>\n",
       "      <th>5</th>\n",
       "      <td>330</td>\n",
       "      <td>136794.3</td>\n",
       "    </tr>\n",
       "    <tr>\n",
       "      <th>6</th>\n",
       "      <td>300</td>\n",
       "      <td>113330.6</td>\n",
       "    </tr>\n",
       "    <tr>\n",
       "      <th>7</th>\n",
       "      <td>165</td>\n",
       "      <td>101360.6</td>\n",
       "    </tr>\n",
       "    <tr>\n",
       "      <th>8</th>\n",
       "      <td>380</td>\n",
       "      <td>76719.6</td>\n",
       "    </tr>\n",
       "    <tr>\n",
       "      <th>9</th>\n",
       "      <td>270</td>\n",
       "      <td>55425.4</td>\n",
       "    </tr>\n",
       "    <tr>\n",
       "      <th>10</th>\n",
       "      <td>210</td>\n",
       "      <td>43048.8</td>\n",
       "    </tr>\n",
       "    <tr>\n",
       "      <th>11</th>\n",
       "      <td>250</td>\n",
       "      <td>26096.7</td>\n",
       "    </tr>\n",
       "    <tr>\n",
       "      <th>12</th>\n",
       "      <td>135</td>\n",
       "      <td>26090.4</td>\n",
       "    </tr>\n",
       "    <tr>\n",
       "      <th>13</th>\n",
       "      <td>200</td>\n",
       "      <td>16007.5</td>\n",
       "    </tr>\n",
       "    <tr>\n",
       "      <th>14</th>\n",
       "      <td>190</td>\n",
       "      <td>14412.9</td>\n",
       "    </tr>\n",
       "    <tr>\n",
       "      <th>15</th>\n",
       "      <td>160</td>\n",
       "      <td>10647.6</td>\n",
       "    </tr>\n",
       "    <tr>\n",
       "      <th>16</th>\n",
       "      <td>90</td>\n",
       "      <td>9676.4</td>\n",
       "    </tr>\n",
       "    <tr>\n",
       "      <th>17</th>\n",
       "      <td>180</td>\n",
       "      <td>8568.4</td>\n",
       "    </tr>\n",
       "    <tr>\n",
       "      <th>18</th>\n",
       "      <td>70</td>\n",
       "      <td>6852.0</td>\n",
       "    </tr>\n",
       "    <tr>\n",
       "      <th>19</th>\n",
       "      <td>220</td>\n",
       "      <td>6831.0</td>\n",
       "    </tr>\n",
       "    <tr>\n",
       "      <th>20</th>\n",
       "      <td>125</td>\n",
       "      <td>5733.0</td>\n",
       "    </tr>\n",
       "  </tbody>\n",
       "</table>\n",
       "</div>"
      ],
      "text/plain": [
       "   PRODUCT_SIZE  TOT_SALES\n",
       "0           175   485425.4\n",
       "1           150   304288.5\n",
       "2           134   177655.5\n",
       "3           110   162765.4\n",
       "4           170   146673.0\n",
       "5           330   136794.3\n",
       "6           300   113330.6\n",
       "7           165   101360.6\n",
       "8           380    76719.6\n",
       "9           270    55425.4\n",
       "10          210    43048.8\n",
       "11          250    26096.7\n",
       "12          135    26090.4\n",
       "13          200    16007.5\n",
       "14          190    14412.9\n",
       "15          160    10647.6\n",
       "16           90     9676.4\n",
       "17          180     8568.4\n",
       "18           70     6852.0\n",
       "19          220     6831.0\n",
       "20          125     5733.0"
      ]
     },
     "execution_count": 66,
     "metadata": {},
     "output_type": "execute_result"
    }
   ],
   "source": [
    "# checking the sales by the Product size\n",
    "productsize_total_sales=data.groupby('PRODUCT_SIZE')['TOT_SALES'].sum().reset_index().sort_values(by='TOT_SALES',ascending=False)\n",
    "productsize_total_sales=productsize_total_sales.reset_index(drop=True)\n",
    "productsize_total_sales"
   ]
  },
  {
   "cell_type": "code",
   "execution_count": 67,
   "id": "02f33dc8",
   "metadata": {
    "id": "02f33dc8",
    "outputId": "5da56a42-0252-46c7-8d51-4e1c4f6c5339"
   },
   "outputs": [
    {
     "data": {
      "text/plain": [
       "Text(0, 0.5, 'TOT SALES')"
      ]
     },
     "execution_count": 67,
     "metadata": {},
     "output_type": "execute_result"
    },
    {
     "data": {
      "image/png": "[encoded data removed]",
      "text/plain": [
       "<Figure size 864x576 with 1 Axes>"
      ]
     },
     "metadata": {
      "needs_background": "light"
     },
     "output_type": "display_data"
    }
   ],
   "source": [
    "# Visualizing the Sales by Product Size\n",
    "plt.figure(figsize=[12,8])\n",
    "sns.barplot(x='PRODUCT_SIZE',y='TOT_SALES', data=productsize_total_sales)\n",
    "plt.title('TOTAL SALE BY PRODUCT SIZE')\n",
    "plt.xlabel('PRODUCT SIZE')\n",
    "plt.ylabel('TOT SALES')"
   ]
  },
  {
   "cell_type": "code",
   "execution_count": 68,
   "id": "e23c8b4e",
   "metadata": {
    "id": "e23c8b4e",
    "outputId": "1d615dfe-b15b-4256-e74d-ff84f88aba21"
   },
   "outputs": [
    {
     "data": {
      "text/html": [
       "<div>\n",
       "<style scoped>\n",
       "    .dataframe tbody tr th:only-of-type {\n",
       "        vertical-align: middle;\n",
       "    }\n",
       "\n",
       "    .dataframe tbody tr th {\n",
       "        vertical-align: top;\n",
       "    }\n",
       "\n",
       "    .dataframe thead th {\n",
       "        text-align: right;\n",
       "    }\n",
       "</style>\n",
       "<table border=\"1\" class=\"dataframe\">\n",
       "  <thead>\n",
       "    <tr style=\"text-align: right;\">\n",
       "      <th></th>\n",
       "      <th>LYLTY_CARD_NBR</th>\n",
       "      <th>LIFESTAGE</th>\n",
       "      <th>PREMIUM_CUSTOMER</th>\n",
       "      <th>STORE_NBR</th>\n",
       "      <th>TXN_ID</th>\n",
       "      <th>PROD_NBR</th>\n",
       "      <th>PROD_NAME</th>\n",
       "      <th>PROD_QTY</th>\n",
       "      <th>TOT_SALES</th>\n",
       "      <th>Date</th>\n",
       "      <th>PRODUCT_SIZE</th>\n",
       "      <th>YEAR</th>\n",
       "    </tr>\n",
       "  </thead>\n",
       "  <tbody>\n",
       "    <tr>\n",
       "      <th>0</th>\n",
       "      <td>1000</td>\n",
       "      <td>YOUNG SINGLES/COUPLES</td>\n",
       "      <td>Premium</td>\n",
       "      <td>1</td>\n",
       "      <td>1</td>\n",
       "      <td>5</td>\n",
       "      <td>Natural Chip        Compny SeaSalt</td>\n",
       "      <td>2</td>\n",
       "      <td>6.0</td>\n",
       "      <td>2018-10-17</td>\n",
       "      <td>175</td>\n",
       "      <td>2018</td>\n",
       "    </tr>\n",
       "    <tr>\n",
       "      <th>1</th>\n",
       "      <td>1002</td>\n",
       "      <td>YOUNG SINGLES/COUPLES</td>\n",
       "      <td>Mainstream</td>\n",
       "      <td>1</td>\n",
       "      <td>2</td>\n",
       "      <td>58</td>\n",
       "      <td>Red Rock Deli Chikn&amp;Garlic Aioli</td>\n",
       "      <td>1</td>\n",
       "      <td>2.7</td>\n",
       "      <td>2018-09-16</td>\n",
       "      <td>150</td>\n",
       "      <td>2018</td>\n",
       "    </tr>\n",
       "  </tbody>\n",
       "</table>\n",
       "</div>"
      ],
      "text/plain": [
       "   LYLTY_CARD_NBR              LIFESTAGE PREMIUM_CUSTOMER  STORE_NBR  TXN_ID  \\\n",
       "0            1000  YOUNG SINGLES/COUPLES          Premium          1       1   \n",
       "1            1002  YOUNG SINGLES/COUPLES       Mainstream          1       2   \n",
       "\n",
       "   PROD_NBR                           PROD_NAME  PROD_QTY  TOT_SALES  \\\n",
       "0         5  Natural Chip        Compny SeaSalt         2        6.0   \n",
       "1        58   Red Rock Deli Chikn&Garlic Aioli          1        2.7   \n",
       "\n",
       "        Date PRODUCT_SIZE  YEAR  \n",
       "0 2018-10-17          175  2018  \n",
       "1 2018-09-16          150  2018  "
      ]
     },
     "execution_count": 68,
     "metadata": {},
     "output_type": "execute_result"
    }
   ],
   "source": [
    "data.head(2)"
   ]
  },
  {
   "cell_type": "code",
   "execution_count": 69,
   "id": "5ce8e7cf",
   "metadata": {
    "id": "5ce8e7cf"
   },
   "outputs": [
    {
     "data": {
      "text/plain": [
       "0    10\n",
       "1     9\n",
       "2     3\n",
       "3     3\n",
       "4    11\n",
       "Name: Month, dtype: int64"
      ]
     },
     "execution_count": 69,
     "metadata": {},
     "output_type": "execute_result"
    }
   ],
   "source": [
    "data['Month']=data['Date'].dt.month\n",
    "data['Month'].head()"
   ]
  },
  {
   "cell_type": "code",
   "execution_count": 71,
   "id": "98ab9e13",
   "metadata": {
    "id": "98ab9e13"
   },
   "outputs": [],
   "source": [
    "import calendar\n",
    "def convert_month(month):\n",
    "    if isinstance(month, int):\n",
    "        return calendar.month_name[month]\n",
    "    else:\n",
    "        return pd.to_datetime(month, format='%B').strftime('%B')\n",
    "\n",
    "data['Month'] = pd.Categorical(data['Month'].apply(convert_month), categories=calendar.month_name[1:], ordered=True)"
   ]
  },
  {
   "cell_type": "code",
   "execution_count": 72,
   "id": "d9a10b55",
   "metadata": {},
   "outputs": [
    {
     "data": {
      "text/html": [
       "<div>\n",
       "<style scoped>\n",
       "    .dataframe tbody tr th:only-of-type {\n",
       "        vertical-align: middle;\n",
       "    }\n",
       "\n",
       "    .dataframe tbody tr th {\n",
       "        vertical-align: top;\n",
       "    }\n",
       "\n",
       "    .dataframe thead th {\n",
       "        text-align: right;\n",
       "    }\n",
       "</style>\n",
       "<table border=\"1\" class=\"dataframe\">\n",
       "  <thead>\n",
       "    <tr style=\"text-align: right;\">\n",
       "      <th></th>\n",
       "      <th>Month</th>\n",
       "      <th>TOT_SALES</th>\n",
       "    </tr>\n",
       "  </thead>\n",
       "  <tbody>\n",
       "    <tr>\n",
       "      <th>0</th>\n",
       "      <td>December</td>\n",
       "      <td>167913.40</td>\n",
       "    </tr>\n",
       "    <tr>\n",
       "      <th>1</th>\n",
       "      <td>March</td>\n",
       "      <td>166265.20</td>\n",
       "    </tr>\n",
       "    <tr>\n",
       "      <th>2</th>\n",
       "      <td>July</td>\n",
       "      <td>165275.30</td>\n",
       "    </tr>\n",
       "    <tr>\n",
       "      <th>3</th>\n",
       "      <td>October</td>\n",
       "      <td>164403.70</td>\n",
       "    </tr>\n",
       "    <tr>\n",
       "      <th>4</th>\n",
       "      <td>January</td>\n",
       "      <td>162642.30</td>\n",
       "    </tr>\n",
       "    <tr>\n",
       "      <th>5</th>\n",
       "      <td>June</td>\n",
       "      <td>160538.60</td>\n",
       "    </tr>\n",
       "    <tr>\n",
       "      <th>6</th>\n",
       "      <td>September</td>\n",
       "      <td>160522.00</td>\n",
       "    </tr>\n",
       "    <tr>\n",
       "      <th>7</th>\n",
       "      <td>November</td>\n",
       "      <td>160233.70</td>\n",
       "    </tr>\n",
       "    <tr>\n",
       "      <th>8</th>\n",
       "      <td>April</td>\n",
       "      <td>159845.10</td>\n",
       "    </tr>\n",
       "    <tr>\n",
       "      <th>9</th>\n",
       "      <td>August</td>\n",
       "      <td>158731.05</td>\n",
       "    </tr>\n",
       "    <tr>\n",
       "      <th>10</th>\n",
       "      <td>May</td>\n",
       "      <td>157367.65</td>\n",
       "    </tr>\n",
       "    <tr>\n",
       "      <th>11</th>\n",
       "      <td>February</td>\n",
       "      <td>150665.00</td>\n",
       "    </tr>\n",
       "  </tbody>\n",
       "</table>\n",
       "</div>"
      ],
      "text/plain": [
       "        Month  TOT_SALES\n",
       "0    December  167913.40\n",
       "1       March  166265.20\n",
       "2        July  165275.30\n",
       "3     October  164403.70\n",
       "4     January  162642.30\n",
       "5        June  160538.60\n",
       "6   September  160522.00\n",
       "7    November  160233.70\n",
       "8       April  159845.10\n",
       "9      August  158731.05\n",
       "10        May  157367.65\n",
       "11   February  150665.00"
      ]
     },
     "execution_count": 72,
     "metadata": {},
     "output_type": "execute_result"
    }
   ],
   "source": [
    "#checkimh the Sales with respect to Month\n",
    "sales_by_month=data.groupby('Month')['TOT_SALES'].sum().reset_index().sort_values(by='TOT_SALES', ascending=False)\n",
    "sales_by_month=sales_by_month.reset_index(drop=True)\n",
    "sales_by_month"
   ]
  },
  {
   "cell_type": "code",
   "execution_count": 73,
   "id": "523c99f3",
   "metadata": {},
   "outputs": [
    {
     "data": {
      "text/plain": [
       "Text(0, 0.5, 'Total Sales')"
      ]
     },
     "execution_count": 73,
     "metadata": {},
     "output_type": "execute_result"
    },
    {
     "data": {
      "image/png": "[encoded data removed]",
      "text/plain": [
       "<Figure size 1080x288 with 1 Axes>"
      ]
     },
     "metadata": {
      "needs_background": "light"
     },
     "output_type": "display_data"
    }
   ],
   "source": [
    "# visualizing the sales by month\n",
    "plt.figure(figsize=[15,4])\n",
    "order = sales_by_month.sort_values('TOT_SALES', ascending=False)['Month'].values\n",
    "sns.barplot( x='Month', y='TOT_SALES', data=sales_by_month,  order=order)\n",
    "plt.title('SALES BY MONTH')\n",
    "plt.xlabel('Month')\n",
    "plt.ylabel('Total Sales')"
   ]
  },
  {
   "cell_type": "markdown",
   "id": "7ce82e03",
   "metadata": {},
   "source": [
    "# CONCLUSION\n"
   ]
  },
  {
   "cell_type": "code",
   "execution_count": null,
   "id": "61ac3252",
   "metadata": {},
   "outputs": [],
   "source": []
  }
 ],
 "metadata": {
  "colab": {
   "provenance": []
  },
  "kernelspec": {
   "display_name": "Python 3 (ipykernel)",
   "language": "python",
   "name": "python3"
  },
  "language_info": {
   "codemirror_mode": {
    "name": "ipython",
    "version": 3
   },
   "file_extension": ".py",
   "mimetype": "text/x-python",
   "name": "python",
   "nbconvert_exporter": "python",
   "pygments_lexer": "ipython3",
   "version": "3.9.12"
  }
 },
 "nbformat": 4,
 "nbformat_minor": 5
}
